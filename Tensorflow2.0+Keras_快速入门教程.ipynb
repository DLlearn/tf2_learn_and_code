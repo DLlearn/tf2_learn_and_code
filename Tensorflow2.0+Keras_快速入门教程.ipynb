{
 "cells": [
  {
   "cell_type": "markdown",
   "metadata": {},
   "source": [
    "本文是学习keras作者关于tensorflow2.0的教程"
   ]
  },
  {
   "cell_type": "code",
   "execution_count": null,
   "metadata": {},
   "outputs": [],
   "source": [
    "#安装tensorflow\n",
    "!pip install tensorflow==2.0.0"
   ]
  },
  {
   "cell_type": "code",
   "execution_count": 1,
   "metadata": {
    "code_folding": []
   },
   "outputs": [
    {
     "name": "stdout",
     "output_type": "stream",
     "text": [
      "2.0.0\n"
     ]
    }
   ],
   "source": [
    "import tensorflow as tf\n",
    "print(tf.__version__)"
   ]
  },
  {
   "cell_type": "markdown",
   "metadata": {},
   "source": [
    "#  Tensorflow2.0+Keras综述\n",
    "*作者：fchollet,2019年10月*\n",
    "\n",
    "---\n",
    "\n",
    "**本文是关于Tensorflow2.0 API的简要介绍课程**\n",
    "\n",
    "---\n",
    "Tensorflow2.0和Keras都已经发布有四年之久（2015年3月Keras发布，同年11月Tensorflow发布）。在过去的日子里深度学习得到的迅速发展，同时我们也知道\n",
    "Tensorflow1.x和Keras的一些问题：\n",
    "\n",
    "---\n",
    "\n",
    "- 使用Tensorflow意味着要对静态图进行编程，对于熟悉命令式编程的程序比较难而且不方便\n",
    "- Tensorflow api功能强大并且灵活，但是比较复杂容易混乱，难以使用\n",
    "- Keras api 生产力高并且易用，但是缺乏用于研究的灵活性\n",
    "\n",
    "---\n",
    "\n",
    "### Tensorflow2.0是Tensorflow1.x和Keras的组合设计，考虑了四年来的用户反馈和框架发展，很大程度上解决了上述问题，将成为未来的机器学习平台。\n",
    "\n",
    "Tensorflow2.0构建在以下的核心思想之上：\n",
    "- 编码更加pythonic,使有户像在用numpy编程一样，能立即获得结果\n",
    "- 保留了静态图的特性（为了性能、分布式和生产布署），这使TensorFlow快速，可扩展且可投入生产。\n",
    "- 使用Keras作为深度学习的高级api,使得Tensorflow变得易用高效\n",
    "- 使整个框架兼有高级特性（易用，高效，不够灵活）和低级特性（功能强大可扩展，不易使用，但非常灵活）\n"
   ]
  },
  {
   "cell_type": "markdown",
   "metadata": {
    "scrolled": true
   },
   "source": [
    "# 第一部分：Tensorflow基础"
   ]
  },
  {
   "cell_type": "markdown",
   "metadata": {},
   "source": [
    "## Tensors张量"
   ]
  },
  {
   "cell_type": "markdown",
   "metadata": {},
   "source": [
    "[常量constant](https://www.tensorflow.org/api_docs/python/tf/constant):"
   ]
  },
  {
   "cell_type": "code",
   "execution_count": 2,
   "metadata": {},
   "outputs": [
    {
     "name": "stdout",
     "output_type": "stream",
     "text": [
      "tf.Tensor(\n",
      "[[4 2]\n",
      " [9 5]], shape=(2, 2), dtype=int32)\n"
     ]
    }
   ],
   "source": [
    "x = tf.constant([[4,2],[9,5]])\n",
    "print(x)"
   ]
  },
  {
   "cell_type": "markdown",
   "metadata": {},
   "source": [
    "可以通过“.numpy()”来得到numpy array类型"
   ]
  },
  {
   "cell_type": "code",
   "execution_count": 3,
   "metadata": {},
   "outputs": [
    {
     "data": {
      "text/plain": [
       "array([[4, 2],\n",
       "       [9, 5]], dtype=int32)"
      ]
     },
     "execution_count": 3,
     "metadata": {},
     "output_type": "execute_result"
    }
   ],
   "source": [
    "x.numpy()"
   ]
  },
  {
   "cell_type": "markdown",
   "metadata": {},
   "source": [
    "像numpy一样，有`shape`和`dtype`属性"
   ]
  },
  {
   "cell_type": "code",
   "execution_count": 4,
   "metadata": {},
   "outputs": [
    {
     "name": "stdout",
     "output_type": "stream",
     "text": [
      "(2, 2)\n",
      "<dtype: 'int32'>\n"
     ]
    }
   ],
   "source": [
    "print('shape:',x.shape)\n",
    "print('dx.dtype)"
   ]
  },
  {
   "cell_type": "markdown",
   "metadata": {},
   "source": [
    "常用的产生常量的方法是`tf.ones`和`tf.zeros`就像numpy的`np.ones``np.zeros`"
   ]
  },
  {
   "cell_type": "code",
   "execution_count": 9,
   "metadata": {},
   "outputs": [
    {
     "name": "stdout",
     "output_type": "stream",
     "text": [
      "tf.Tensor(\n",
      "[[1. 1. 1.]\n",
      " [1. 1. 1.]], shape=(2, 3), dtype=float32)\n",
      "tf.Tensor(\n",
      "[[0. 0.]\n",
      " [0. 0.]\n",
      " [0. 0.]], shape=(3, 2), dtype=float32)\n"
     ]
    }
   ],
   "source": [
    "print(tf.ones(shape=(2,3)))\n",
    "print(tf.zeros(shape=(3,2)))"
   ]
  },
  {
   "cell_type": "markdown",
   "metadata": {},
   "source": [
    "## 随机数常量[random constant正态分布](https://www.tensorflow.org/api_docs/python/tf/random/normal)"
   ]
  },
  {
   "cell_type": "code",
   "execution_count": 11,
   "metadata": {},
   "outputs": [
    {
     "data": {
      "text/plain": [
       "<tf.Tensor: id=12, shape=(2, 2), dtype=float32, numpy=\n",
       "array([[-0.05229542,  0.64488363],\n",
       "       [ 0.37966082,  1.0098479 ]], dtype=float32)>"
      ]
     },
     "execution_count": 11,
     "metadata": {},
     "output_type": "execute_result"
    }
   ],
   "source": [
    "tf.random.normal(shape=(2,2),mean=0,stddev=1.0)"
   ]
  },
  {
   "cell_type": "code",
   "execution_count": 12,
   "metadata": {},
   "outputs": [
    {
     "data": {
      "text/plain": [
       "<tf.Tensor: id=16, shape=(2, 2), dtype=int32, numpy=\n",
       "array([[6, 3],\n",
       "       [8, 7]], dtype=int32)>"
      ]
     },
     "execution_count": 12,
     "metadata": {},
     "output_type": "execute_result"
    }
   ],
   "source": [
    "#整数均匀分布\n",
    "tf.random.uniform(shape=(2,2),minval=0,maxval=10,dtype=tf.int32)"
   ]
  },
  {
   "cell_type": "markdown",
   "metadata": {},
   "source": [
    "## 2.3 Variables变量"
   ]
  },
  {
   "cell_type": "markdown",
   "metadata": {},
   "source": [
    "[变量](https://www.tensorflow.org/guide/variable)是一种特别的张量，用来存储可变数值，需要用一些值来初始化"
   ]
  },
  {
   "cell_type": "code",
   "execution_count": 5,
   "metadata": {},
   "outputs": [
    {
     "name": "stdout",
     "output_type": "stream",
     "text": [
      "<tf.Variable 'Variable:0' shape=(2, 2) dtype=float32, numpy=\n",
      "array([[ 0.07630513, -0.39769924],\n",
      "       [-0.9712114 , -0.62955064]], dtype=float32)>\n"
     ]
    }
   ],
   "source": [
    "initial_value = tf.random.normal(shape=(2,2))\n",
    "a = tf.Variable(initial_value)\n",
    "print(a)"
   ]
  },
  {
   "cell_type": "markdown",
   "metadata": {},
   "source": [
    " 可以通过assign(value)来赋值“=”，或assign_add(value)“+=”，或assign_sub(value)“-=”"
   ]
  },
  {
   "cell_type": "code",
   "execution_count": 6,
   "metadata": {},
   "outputs": [],
   "source": [
    "new_value = tf.random.normal(shape=(2, 2))\n",
    "a.assign(new_value)\n",
    "for i in range(2):\n",
    "    for j in range(2):\n",
    "        assert a[i, j] == new_value[i, j]"
   ]
  },
  {
   "cell_type": "code",
   "execution_count": 7,
   "metadata": {},
   "outputs": [],
   "source": [
    "added_value = tf.random.normal(shape=(2,2))\n",
    "a.assign_add(added_value)\n",
    "for i in range(2):\n",
    "    for j in range(2):\n",
    "        assert a[i,j] == new_value[i,j]+added_value[i,j]"
   ]
  },
  {
   "cell_type": "markdown",
   "metadata": {},
   "source": [
    "## Tensorflow数学运算"
   ]
  },
  {
   "cell_type": "markdown",
   "metadata": {},
   "source": [
    "可以像numpy那样做作运算，Tensorflow的不同时这些运算可以放到GPU或TPU上执行"
   ]
  },
  {
   "cell_type": "code",
   "execution_count": 8,
   "metadata": {},
   "outputs": [
    {
     "name": "stdout",
     "output_type": "stream",
     "text": [
      "tf.Tensor(\n",
      "[[ 1.6862711 -1.4246397]\n",
      " [-1.0287055 -1.3188182]], shape=(2, 2), dtype=float32)\n",
      "tf.Tensor(\n",
      "[[ 1.4519434  0.7635907]\n",
      " [ 1.1213834 -1.4559215]], shape=(2, 2), dtype=float32)\n",
      "tf.Tensor(\n",
      "[[ 3.1382146  -0.661049  ]\n",
      " [ 0.09267795 -2.7747397 ]], shape=(2, 2), dtype=float32)\n",
      "tf.Tensor(\n",
      "[[9.8483906e+00 4.3698579e-01]\n",
      " [8.5892025e-03 7.6991806e+00]], shape=(2, 2), dtype=float32)\n",
      "tf.Tensor(\n",
      "[[23.062654    0.51630944]\n",
      " [ 1.0971084   0.0623657 ]], shape=(2, 2), dtype=float32)\n"
     ]
    }
   ],
   "source": [
    "a = tf.random.normal(shape=(2,2))\n",
    "b = tf.random.normal(shape=(2,2))\n",
    "c = a+b\n",
    "d = tf.square(c)\n",
    "e = tf.exp(c)\n",
    "print(a)\n",
    "print(b)\n",
    "print(c)\n",
    "print(d)\n",
    "print(e)"
   ]
  },
  {
   "cell_type": "markdown",
   "metadata": {},
   "source": [
    "## `GradientTape`计算梯度"
   ]
  },
  {
   "cell_type": "markdown",
   "metadata": {},
   "source": [
    "和numpy的另一个不同是，可以自动跟踪任何变量的梯度。\n",
    "打开一个[`GradientTape`](https://www.tensorflow.org/api_docs/python/tf/GradientTape),然后通过`tape.watch()`来跟踪变量"
   ]
  },
  {
   "cell_type": "code",
   "execution_count": 10,
   "metadata": {},
   "outputs": [
    {
     "name": "stdout",
     "output_type": "stream",
     "text": [
      "tf.Tensor(\n",
      "[[-0.53557533  0.87920487]\n",
      " [ 0.24663754  0.4680054 ]], shape=(2, 2), dtype=float32)\n"
     ]
    }
   ],
   "source": [
    "a = tf.random.normal(shape=(2,2))\n",
    "b = tf.random.normal(shape=(2,2))\n",
    "with tf.GradientTape() as tape:\n",
    "    tape.watch(a)#开始记录所有有关a参与过的运算\n",
    "    c = tf.sqrt(tf.square(a)+tf.square(b)) #变量a做一些运算\n",
    "    #计算c对于a的梯度\n",
    "    dc_da = tape.gradient(c,a)\n",
    "    print(dc_da)"
   ]
  },
  {
   "cell_type": "markdown",
   "metadata": {},
   "source": [
    "对于所有变量，默认状态下会跟踪计算并用来求梯度，所以不用使用`tape.watch()`"
   ]
  },
  {
   "cell_type": "code",
   "execution_count": 11,
   "metadata": {},
   "outputs": [
    {
     "name": "stdout",
     "output_type": "stream",
     "text": [
      "tf.Tensor(\n",
      "[[-0.53557533  0.87920487]\n",
      " [ 0.24663754  0.4680054 ]], shape=(2, 2), dtype=float32)\n"
     ]
    }
   ],
   "source": [
    "a = tf.Variable(a)\n",
    "with tf.GradientTape() as tape:\n",
    "    c = tf.sqrt(tf.square(a)+tf.square(b))\n",
    "    dc_da = tape.gradient(c,a)\n",
    "    print(dc_da)"
   ]
  },
  {
   "cell_type": "markdown",
   "metadata": {},
   "source": [
    "可以通过多开几个`GradientTape`来求高阶导数："
   ]
  },
  {
   "cell_type": "code",
   "execution_count": 12,
   "metadata": {},
   "outputs": [
    {
     "name": "stdout",
     "output_type": "stream",
     "text": [
      "tf.Tensor(\n",
      "[[0.54411626 0.33872807]\n",
      " [1.5284648  0.5024241 ]], shape=(2, 2), dtype=float32)\n"
     ]
    }
   ],
   "source": [
    "with tf.GradientTape() as outer_tape:\n",
    "    with tf.GradientTape() as tape:\n",
    "        c = tf.sqrt(tf.square(a)+tf.square(b))\n",
    "        dc_da = tape.gradient(c,a)\n",
    "    d2c_d2a = outer_tape.gradient(dc_da,a)\n",
    "    print(d2c_d2a)"
   ]
  },
  {
   "cell_type": "markdown",
   "metadata": {},
   "source": [
    "## 一个完整的例子：linear regression 线性回归"
   ]
  },
  {
   "cell_type": "markdown",
   "metadata": {},
   "source": [
    "到目前已经讲了像numpy一样的运算方式，但可在GPU或TPU上加速，并且会求梯度。下面展示一个完整的示例：线性回归。\n",
    "为了演示，不会使用有知keras的高级api(Layer 或MeanSquaredError),仅使用最基本运算："
   ]
  },
  {
   "cell_type": "code",
   "execution_count": 13,
   "metadata": {},
   "outputs": [],
   "source": [
    "input_dim=2\n",
    "output_dim=1\n",
    "learning_rate = 0.01\n",
    "#weight matrix\n",
    "w=tf.Variable(tf.random.normal(shape=(input_dim,output_dim)))\n",
    "#bias\n",
    "b=tf.Variable(tf.random.normal(shape=(output_dim,)))\n",
    "\n",
    "def compute_predictions(features):\n",
    "    return tf.matmul(features,w)+b\n",
    "def compute_loss(labels,predictions):\n",
    "    return tf.reduce_mean(tf.square(labels-predictions))\n",
    "\n",
    "def train_on_batch(x,y):\n",
    "    with tf.GradientTape() as tape:\n",
    "        predictions = compute_predictions(x)\n",
    "        loss = compute_loss(y,predictions)\n",
    "        #tape.gradient对于多个变量求梯度也是可以的\n",
    "        dloss_w,dloss_b=tape.gradient(loss,[w,b])\n",
    "    w.assign_sub(learning_rate*dloss_w)\n",
    "    b.assign_sub(learning_rate*dloss_b)\n",
    "    return loss"
   ]
  },
  {
   "cell_type": "markdown",
   "metadata": {},
   "source": [
    "生成一些假数据来展示我们的线性回归算法"
   ]
  },
  {
   "cell_type": "code",
   "execution_count": 17,
   "metadata": {},
   "outputs": [
    {
     "name": "stdout",
     "output_type": "stream",
     "text": [
      "negative_samples.shape (10000, 2)\n",
      "positive_sample.shape (10000, 2)\n",
      "features.shape (20000, 2)\n",
      "labels.shape (20000, 1)\n"
     ]
    }
   ],
   "source": [
    "import numpy as np\n",
    "import random\n",
    "import matplotlib.pyplot as plt\n",
    "%matplotlib inline\n",
    "\n",
    "#准备数据\n",
    "num_samples=10000\n",
    "\n",
    "negative_samples = np.random.multivariate_normal(mean=[0,3],cov=[[1,0.5],[0.5,1]],size=num_samples)\n",
    "print('negative_samples.shape',negative_samples.shape)\n",
    "positive_samples = np.random.multivariate_normal(mean=[3,0],cov=[[1,0.5],[0.5,1]],size=num_samples)\n",
    "print('positive_sample.shape',positive_samples.shape)\n",
    "features = np.vstack((negative_samples,positive_samples)).astype(np.float32)\n",
    "print(\"features.shape\",features.shape)\n",
    "labels = np.vstack((np.zeros((num_samples,1),dtype=np.float32),np.ones((num_samples,1),dtype=np.float32)))\n",
    "print(\"labels.shape\",labels.shape)"
   ]
  },
  {
   "cell_type": "code",
   "execution_count": 19,
   "metadata": {},
   "outputs": [
    {
     "data": {
      "text/plain": [
       "<matplotlib.collections.PathCollection at 0x7f66b1944e10>"
      ]
     },
     "execution_count": 19,
     "metadata": {},
     "output_type": "execute_result"
    },
    {
     "data": {
      "image/png": "[encoded data removed]",
      "text/plain": [
       "<Figure size 432x288 with 1 Axes>"
      ]
     },
     "metadata": {
      "needs_background": "light"
     },
     "output_type": "display_data"
    }
   ],
   "source": [
    "plt.scatter(features[:,0],features[:,1],c=labels[:,0])"
   ]
  },
  {
   "cell_type": "markdown",
   "metadata": {},
   "source": [
    "现在使用batch数据开始训练线性回归模型"
   ]
  },
  {
   "cell_type": "code",
   "execution_count": 21,
   "metadata": {},
   "outputs": [
    {
     "name": "stdout",
     "output_type": "stream",
     "text": [
      "Epoch 0: last batch loss = 0.1631\n",
      "Epoch 1: last batch loss = 0.1252\n",
      "Epoch 2: last batch loss = 0.0770\n",
      "Epoch 3: last batch loss = 0.0565\n",
      "Epoch 4: last batch loss = 0.0325\n",
      "Epoch 5: last batch loss = 0.0245\n",
      "Epoch 6: last batch loss = 0.0470\n",
      "Epoch 7: last batch loss = 0.0326\n",
      "Epoch 8: last batch loss = 0.0316\n",
      "Epoch 9: last batch loss = 0.0216\n"
     ]
    }
   ],
   "source": [
    "#shuffle data打散数据\n",
    "indices = np.random.permutation(len(features))\n",
    "features = features[indices]\n",
    "labels = labels[indices]\n",
    "\n",
    "#使用tf.data来生成batch数据，方便循环使用\n",
    "dataset = tf.data.Dataset.from_tensor_slices((features,labels))\n",
    "dataset = dataset.shuffle(buffer_size=1024).batch(256)\n",
    "#训练\n",
    "for epoch in range(10):\n",
    "    for step,(x,y) in enumerate(dataset):\n",
    "        loss = train_on_batch(x,y)\n",
    "        \n",
    "    print(\"Epoch %d: last batch loss = %.4f\" %(epoch,float(loss)))"
   ]
  },
  {
   "cell_type": "markdown",
   "metadata": {},
   "source": [
    "测试模型性能"
   ]
  },
  {
   "cell_type": "code",
   "execution_count": 22,
   "metadata": {},
   "outputs": [
    {
     "data": {
      "text/plain": [
       "<matplotlib.collections.PathCollection at 0x7f66b14f0dd8>"
      ]
     },
     "execution_count": 22,
     "metadata": {},
     "output_type": "execute_result"
    },
    {
     "data": {
      "image/png": "[encoded data removed]",
      "text/plain": [
       "<Figure size 432x288 with 1 Axes>"
      ]
     },
     "metadata": {
      "needs_background": "light"
     },
     "output_type": "display_data"
    }
   ],
   "source": [
    "predictions = compute_predictions(features)\n",
    "plt.scatter(features[:,0],features[:,1],c=predictions[:,0]>0.5)"
   ]
  },
  {
   "cell_type": "markdown",
   "metadata": {},
   "source": [
    "## 接下来加速训练速度，要使用`tf.function`"
   ]
  },
  {
   "cell_type": "markdown",
   "metadata": {},
   "source": [
    "先计算我们现在代码的计算速度"
   ]
  },
  {
   "cell_type": "code",
   "execution_count": 24,
   "metadata": {},
   "outputs": [
    {
     "name": "stdout",
     "output_type": "stream",
     "text": [
      "Time per epoch: 0.145 s\n"
     ]
    }
   ],
   "source": [
    "import time\n",
    "t0=time.time()\n",
    "for epoch in range(20):\n",
    "    for step,(x,y) in enumerate(dataset):\n",
    "        loss = train_on_batch(x,y)\n",
    "t_end = time.time()-t0\n",
    "print(\"Time per epoch: %.3f s\" %(t_end/20,))"
   ]
  },
  {
   "cell_type": "markdown",
   "metadata": {},
   "source": [
    "将训练函数编译成静态图，只需要加上tf.function的python装饰器"
   ]
  },
  {
   "cell_type": "code",
   "execution_count": 25,
   "metadata": {},
   "outputs": [],
   "source": [
    "@tf.function\n",
    "def train_on_batch(x,y):\n",
    "    with tf.GradientTape() as tape:\n",
    "        predictions = compute_predictions(x)\n",
    "        loss = compute_loss(y,predictions)\n",
    "        dloss_w,dloss_b = tape.gradient(loss,[w,b])\n",
    "    w.assign_sub(learning_rate*dloss_w)\n",
    "    b.assign_sub(learning_rate*dloss_b)\n",
    "    return loss"
   ]
  },
  {
   "cell_type": "markdown",
   "metadata": {},
   "source": [
    "再次使用："
   ]
  },
  {
   "cell_type": "code",
   "execution_count": 27,
   "metadata": {},
   "outputs": [
    {
     "name": "stdout",
     "output_type": "stream",
     "text": [
      "Time per epoch: 0.05802 s\n"
     ]
    }
   ],
   "source": [
    "t0=time.time()\n",
    "for epoch in range(20):\n",
    "    for step,(x,y) in enumerate(dataset):\n",
    "        loss = train_on_batch(x,y)\n",
    "t_end = time.time()-t0\n",
    "print(\"Time per epoch: %.5f s\" %(t_end/20,))"
   ]
  },
  {
   "cell_type": "markdown",
   "metadata": {},
   "source": [
    "大约有50%以上的提速。我们仅是使用一个小的模型，如果是真实的更大的模型，转换成静态图后，会有更大的提升。\n",
    "eager模式方便debugging,并且可以对每一行实时可见结果；但如果要更快运行速度，转换成静态图会更好。"
   ]
  },
  {
   "cell_type": "markdown",
   "metadata": {},
   "source": [
    "# 第二部分：Keras API"
   ]
  },
  {
   "cell_type": "markdown",
   "metadata": {},
   "source": [
    "keras 是深度学习高级api,有以下几点需要知道：\n",
    "- 对于工程师，Keras提供了现成的模块，比如layers,metrics,training loops等来支持常规的使用，易用且能产品化\n",
    "- 对于研究究人员，也许并不想用内建模块，而是要用自己定义的。Keras同样提供支持，有自定义模块的模版，方便定义且与其它人交互。\n",
    "- 对于库开发人员，Tensorflow是一个很大的生态系统，包含许多不同版本的库，为了不同库之间的交互，需要同样标准。\n",
    "\n",
    "整体就是使整个框架兼备灵活性和高级api使用的便利性。\n",
    "![Spectrum of Keras workflows](https://keras-dev.s3.amazonaws.com/tutorials-img/spectrum-of-workflows.png)"
   ]
  },
  {
   "cell_type": "markdown",
   "metadata": {},
   "source": [
    "## 基础类`Layer`\n",
    "第一个需要学习的类就是[`Layer`](https://www.tensorflow.org/api_docs/python/tf/keras/layers/Layer),基本上所有的keras api是以这个类为基础的。\n",
    "Layer类中封装一些状态（如权重）和计算（在call方法中定义）。"
   ]
  },
  {
   "cell_type": "code",
   "execution_count": 14,
   "metadata": {},
   "outputs": [],
   "source": [
    "from tensorflow.keras.layers import Layer\n",
    "class Linear(Layer):\n",
    "    \"\"\"y=wx+b\"\"\"\n",
    "    def __init__(self,units=32,input_dim=32):\n",
    "        super().__init__()\n",
    "        w_init=tf.random_normal_initializer()\n",
    "        self.w = tf.Variable(initial_value=w_init(shape=(input_dim,units),dtype=tf.float32),trainable=True)\n",
    "        b_init=tf.zeros_initializer()\n",
    "        self.b = tf.Variable(initial_value=b_init(shape=(units,),dtype=tf.float32),trainable=True)\n",
    "    def call(self,inputs):\n",
    "        return tf.matmul(inputs,self.w)+self.b\n",
    "#实例化\n",
    "linear_layer = Linear(4,2)"
   ]
  },
  {
   "cell_type": "markdown",
   "metadata": {},
   "source": [
    "类实例化以后可以像函数一样使用"
   ]
  },
  {
   "cell_type": "code",
   "execution_count": 16,
   "metadata": {
    "scrolled": false
   },
   "outputs": [],
   "source": [
    "y = linear_layer(tf.ones((2, 2)))\n",
    "assert y.shape == (2, 4)"
   ]
  },
  {
   "cell_type": "markdown",
   "metadata": {},
   "source": [
    "Layer类将自动完成对类的跟踪更新"
   ]
  },
  {
   "cell_type": "code",
   "execution_count": 17,
   "metadata": {},
   "outputs": [],
   "source": [
    "#所有权重都在`weights`的属性中\n",
    "assert linear_layer.weights==[linear_layer.w,linear_layer.b]"
   ]
  },
  {
   "cell_type": "markdown",
   "metadata": {},
   "source": [
    "linear_layer.weights"
   ]
  },
  {
   "cell_type": "markdown",
   "metadata": {},
   "source": [
    "另外还有一种定义变量的快速方法,使用`add_weight`,对比两种方法：\n",
    "```python\n",
    "w_init = tf.random_normal_initializer()\n",
    "self.w = tf.Variable(initial_value=w_init(shape=shape,dtype=tf.float32))\n",
    "```\n",
    "可以快速使用：\n",
    "```python\n",
    "self.w = self.add_weight(shape=shape,initializer'random_normal')\n",
    "```"
   ]
  },
  {
   "cell_type": "markdown",
   "metadata": {},
   "source": [
    "更好的定义权重方法是在一个类中的build方法中定义变量，这样做的好处是不需要指定输入数据的形状input_dim,第一层见到输入会获取到形状"
   ]
  },
  {
   "cell_type": "code",
   "execution_count": 3,
   "metadata": {},
   "outputs": [],
   "source": [
    "class Linear(Layer):\n",
    "    \"\"\"y=wx+b\"\"\"\n",
    "    def __init__(self,units=32):\n",
    "        super().__init__()\n",
    "        self.units = units\n",
    "    def build(self,input_shape):\n",
    "        self.w = self.add_weight(shape=(input_shape[-1],self.units),initializer=tf.random_normal_initializer(),trainable=True)\n",
    "        self.b = self.add_weight(shape=self.units,initializer=tf.constant_initializer(),trainable=True)\n",
    "    def call(self,inputs):\n",
    "        return tf.matmul(inputs,self.w)+self.b\n",
    "#实例化\n",
    "linear_layer = Linear(4)\n",
    "#调用build方法并生成权重\n",
    "y = linear_layer(tf.ones((2,2)))\n",
    "assert len(linear_layer.weights)==2"
   ]
  },
  {
   "cell_type": "markdown",
   "metadata": {},
   "source": [
    "## Trainable and non-trainable weights可训练和不可训练参数"
   ]
  },
  {
   "cell_type": "markdown",
   "metadata": {},
   "source": [
    "通过layer中产生的变量要么是可训练的要么是不可训练的，它们被分别放在`trainable_weights`和`non_trainable_weights`"
   ]
  },
  {
   "cell_type": "code",
   "execution_count": 27,
   "metadata": {},
   "outputs": [
    {
     "name": "stdout",
     "output_type": "stream",
     "text": [
      "[2. 2.]\n",
      "[4. 4.]\n"
     ]
    }
   ],
   "source": [
    "from tensorflow.keras.layers import Layer\n",
    "\n",
    "class ComputeSum(Layer):\n",
    "    \"\"\"return the sum of the inputs\"\"\"\n",
    "    def __init__(self,input_dim):\n",
    "        super().__init__()\n",
    "        #创建一个不可训练变量\n",
    "        self.total = tf.Variable(initial_value=tf.zeros(shape=(input_dim,)),trainable=False)\n",
    "    def call(self,inputs):\n",
    "        self.total.assign_add(tf.reduce_sum(inputs,axis=0))\n",
    "        return self.total\n",
    "my_sum = ComputeSum(2)\n",
    "x = tf.ones((2,2))\n",
    "\n",
    "y = my_sum(x)\n",
    "print(y.numpy())\n",
    "y=my_sum(x)\n",
    "print(y.numpy())\n",
    "assert my_sum.weights==[my_sum.total]\n",
    "assert my_sum.non_trainable_weights==[my_sum.total]\n",
    "assert my_sum.trainable_weights==[]"
   ]
  },
  {
   "cell_type": "markdown",
   "metadata": {},
   "source": [
    "## 堆叠网络层"
   ]
  },
  {
   "cell_type": "markdown",
   "metadata": {},
   "source": [
    "神经网络可以通过递归堆成更大的网络，每一层可以自动更踪trainable和non-trainable weights"
   ]
  },
  {
   "cell_type": "code",
   "execution_count": 30,
   "metadata": {},
   "outputs": [],
   "source": [
    "#再次使用Linear类，使用有build方法的那个\n",
    "class MLP(Layer):\n",
    "    \"\"\"堆叠多个Linear层\"\"\"\n",
    "    def __init__(self):\n",
    "        super().__init__()\n",
    "        self.linear_1 = Linear(32)\n",
    "        self.linear_2 = Linear(32)\n",
    "        self.linear_3 = Linear(10)\n",
    "    def call(self,inputs):\n",
    "        x = self.linear_1(inputs)\n",
    "        x = tf.nn.relu(x)\n",
    "        x = self.linear_2(x)\n",
    "        x = tf.nn.relu(x)\n",
    "        x = self.linear_3(x)\n",
    "        return x\n",
    "mlp = MLP()\n",
    "#第一次调用mlp将产生变量\n",
    "y = mlp(tf.ones(shape=(3,64)))\n",
    "#所有变量都有跟踪记录\n",
    "assert len(mlp.weights)==6\n",
    "        "
   ]
  },
  {
   "cell_type": "markdown",
   "metadata": {},
   "source": [
    "## 内建层\n",
    "\n",
    "Keras内部有许多构[建好的层](https://www.tensorflow.org/api_docs/python/tf/keras/layers/),所以很多情况下不需要自己定义新的Layer.\n",
    "\n",
    "- convolution layers 卷积层\n",
    "- transposed convolution 逆卷积\n",
    "- separateable convolution 可分离卷积\n",
    "- average and max pooling 平均池化和最大值池化\n",
    "- global average and max pooling全局平均和最大值池化\n",
    "- LSTM,GRU(支持cuDNN加速）\n",
    "- batchnormalization 批归一化\n",
    "- dropout 随机舍弃\n",
    "- attention 注意力机制\n",
    "- convlstm2d\n",
    "- etc 等"
   ]
  },
  {
   "cell_type": "markdown",
   "metadata": {},
   "source": [
    "Keras 的参数配置使用常用的公开的参数，所以在大多数情况不重新定义参数而是使用默认的值，会得到较好的结果。例如`LSTM`初始化用正交矩阵，遗忘门使用偏置1。"
   ]
  },
  {
   "cell_type": "markdown",
   "metadata": {},
   "source": [
    "## `call`方法中的`training`参数\n",
    "\n",
    "有一些层，特别是`BatchNormalization`和`Dropout`，在训练和推理阶段有不同的作用，需要在调用时指定training是True还是False。\n",
    "\n"
   ]
  },
  {
   "cell_type": "code",
   "execution_count": 5,
   "metadata": {},
   "outputs": [],
   "source": [
    "from tensorflow.keras.layers import Layer\n",
    "\n",
    "class Dropout(Layer):\n",
    "    def __init__(self,rate):\n",
    "        super().__init__()\n",
    "        self.rate=rate\n",
    "    def call(self,inputs,training=None):\n",
    "        if training:\n",
    "            return tf.nn.dropout(inputs,rate=self.rate)\n",
    "        return inputs\n",
    "\n",
    "class MLPWithDropout(Layer):\n",
    "    def __init__(self):\n",
    "        super().__init__()\n",
    "        self.linear_1 = Linear(32)\n",
    "        self.dropout = Dropout(0.5)\n",
    "        self.linear_2 = Linear(10)\n",
    "    def call(self,inputs,training=None):\n",
    "        x = self.linear_1(inputs)\n",
    "        x = tf.nn.relu(x)\n",
    "        x = self.dropout(x,training=training)\n",
    "        x = self.linear_2(x)\n",
    "        return x\n",
    "mlp = MLPWithDropout()\n",
    "y_train = mlp(tf.ones((2,2)),training=True)\n",
    "y_test = mlp(tf.ones((2,2)),training=False)"
   ]
  },
  {
   "cell_type": "markdown",
   "metadata": {},
   "source": [
    "## 函数式编程\n",
    "\n",
    "写模型并不是总要用面向对像编程的，可以使用函数的面向过程的方法，官方称之为\"Functional API\""
   ]
  },
  {
   "cell_type": "code",
   "execution_count": null,
   "metadata": {},
   "outputs": [],
   "source": []
  }
 ],
 "metadata": {
  "kernelspec": {
   "display_name": "tf2",
   "language": "python",
   "name": "tf2"
  },
  "language_info": {
   "codemirror_mode": {
    "name": "ipython",
    "version": 3
   },
   "file_extension": ".py",
   "mimetype": "text/x-python",
   "name": "python",
   "nbconvert_exporter": "python",
   "pygments_lexer": "ipython3",
   "version": "3.7.0"
  },
  "toc": {
   "base_numbering": 1,
   "nav_menu": {},
   "number_sections": false,
   "sideBar": false,
   "skip_h1_title": false,
   "title_cell": "Table of Contents",
   "title_sidebar": "Contents",
   "toc_cell": false,
   "toc_position": {
    "height": "46.6667px",
    "left": "718px",
    "top": "110px",
    "width": "158.333px"
   },
   "toc_section_display": false,
   "toc_window_display": false
  }
 },
 "nbformat": 4,
 "nbformat_minor": 2
}
