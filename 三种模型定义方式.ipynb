{
 "cells": [
  {
   "cell_type": "markdown",
   "metadata": {},
   "source": [
    "keras和tensorflow2.0提供了三种定义模型的方式：\n",
    "下几点新功能，帮助你用它写博客：\n",
    " 1. Sequential API\n",
    " 2. Functional API \n",
    " 3. Model subclassing\n",
    " \n",
    "这就需要我们了解如何使用这三种方法来定义模型，还要学会什么时候该用什么方法。\n"
   ]
  },
  {
   "cell_type": "markdown",
   "metadata": {},
   "source": [
    "## 1、三种模型定义方式学习"
   ]
  },
  {
   "cell_type": "markdown",
   "metadata": {},
   "source": [
    "## 1.1 Sequential API 学习\n",
    "\n",
    "序列模型是layer-by-layer的，它是最简单的定义模型的方法但是有几个不足：\n",
    "- 不能够共享某一层\n",
    "- 不能有多个分支\n",
    "- 不能多个输入\n",
    "- 不能多个输出\n",
    "\n",
    "这种结构的经典网络比如有：Lenet5,AlexNet,VGGNet.\n",
    "定义一个简单的Sequential模型"
   ]
  },
  {
   "cell_type": "code",
   "execution_count": 1,
   "metadata": {},
   "outputs": [],
   "source": [
    "#导入必备包\n",
    "import tensorflow as tf\n",
    "from tensorflow.keras.models import Model\n",
    "from tensorflow.keras.models import Sequential\n",
    "from tensorflow.keras.layers import  Conv2d\n",
    "from tensorflow.keras.layers import MaxPooling2D\n",
    "from tensorflow.keras.layers import Average"
   ]
  },
  {
   "cell_type": "code",
   "execution_count": null,
   "metadata": {},
   "outputs": [],
   "source": []
  }
 ],
 "metadata": {
  "kernelspec": {
   "display_name": "tf2",
   "language": "python",
   "name": "tf2"
  },
  "language_info": {
   "codemirror_mode": {
    "name": "ipython",
    "version": 3
   },
   "file_extension": ".py",
   "mimetype": "text/x-python",
   "name": "python",
   "nbconvert_exporter": "python",
   "pygments_lexer": "ipython3",
   "version": "3.6.9"
  }
 },
 "nbformat": 4,
 "nbformat_minor": 2
}
