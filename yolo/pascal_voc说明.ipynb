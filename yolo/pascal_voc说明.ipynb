{
 "cells": [
  {
   "cell_type": "markdown",
   "metadata": {},
   "source": [
    "# 1、数据准备"
   ]
  },
  {
   "cell_type": "markdown",
   "metadata": {},
   "source": [
    "下载 Pascal VOC数据集"
   ]
  },
  {
   "cell_type": "code",
   "execution_count": 4,
   "metadata": {},
   "outputs": [
    {
     "name": "stdout",
     "output_type": "stream",
     "text": [
      "/home/tianliang/tf2_learn_and_code/yolov1\n"
     ]
    }
   ],
   "source": [
    "import os\n",
    "import subprocess\n",
    "cwd=os.getcwd()\n",
    "print(cwd)"
   ]
  },
  {
   "cell_type": "code",
   "execution_count": 10,
   "metadata": {},
   "outputs": [
    {
     "name": "stdout",
     "output_type": "stream",
     "text": [
      "Creating data directory...\n",
      "Downloading Pascal VOC 2007 data...\n",
      "CompletedProcess(args=['wget', 'http://pjreddie.com/media/files/VOCtrainval_06-Nov-2007.tar'], returncode=0, stdout=b'')\n"
     ]
    }
   ],
   "source": [
    "print(\"Creating data directory...\")\n",
    "\n",
    "os.makedirs('/tmp/data/pascal_voc')\n",
    "os.chdir('/tmp/data/pascal_voc')\n",
    "print(\"Downloading Pascal VOC 2007 train val data...\")\n",
    "os.system(\"wget http://pjreddie.com/media/files/VOCtrainval_06-Nov-2007.tar\")#439M\n",
    "print(\"Extracting the data..\")\n",
    "os.system(\"tar xf VOCtrainval_06-Nov-2007.tar\")\n",
    "print(\"Extracting the data..\")\n",
    "os.system(\"tar xf VOCtrainval_06-Nov-2007.tar\")"
   ]
  },
  {
   "cell_type": "code",
   "execution_count": 17,
   "metadata": {},
   "outputs": [
    {
     "name": "stdout",
     "output_type": "stream",
     "text": [
      "\u001b[01;34m/tmp/data/pascal_voc/\u001b[00m\r\n",
      "├── \u001b[01;34mVOCdevkit\u001b[00m\r\n",
      "│   └── \u001b[01;34mVOC2007\u001b[00m\r\n",
      "│       ├── \u001b[01;34mAnnotations\u001b[00m [5011 entries exceeds filelimit, not opening dir]\r\n",
      "│       ├── \u001b[01;34mImageSets\u001b[00m\r\n",
      "│       │   ├── \u001b[01;34mLayout\u001b[00m\r\n",
      "│       │   │   ├── train.txt\r\n",
      "│       │   │   ├── trainval.txt\r\n",
      "│       │   │   └── val.txt\r\n",
      "│       │   ├── \u001b[01;34mMain\u001b[00m\r\n",
      "│       │   │   ├── aeroplane_train.txt\r\n",
      "│       │   │   ├── aeroplane_trainval.txt\r\n",
      "│       │   │   ├── aeroplane_val.txt\r\n",
      "│       │   │   ├── bicycle_train.txt\r\n",
      "│       │   │   ├── bicycle_trainval.txt\r\n",
      "│       │   │   ├── bicycle_val.txt\r\n",
      "│       │   │   ├── bird_train.txt\r\n",
      "│       │   │   ├── bird_trainval.txt\r\n",
      "│       │   │   ├── bird_val.txt\r\n",
      "│       │   │   ├── boat_train.txt\r\n",
      "│       │   │   ├── boat_trainval.txt\r\n",
      "│       │   │   ├── boat_val.txt\r\n",
      "│       │   │   ├── bottle_train.txt\r\n",
      "│       │   │   ├── bottle_trainval.txt\r\n",
      "│       │   │   ├── bottle_val.txt\r\n",
      "│       │   │   ├── bus_train.txt\r\n",
      "│       │   │   ├── bus_trainval.txt\r\n",
      "│       │   │   ├── bus_val.txt\r\n",
      "│       │   │   ├── car_train.txt\r\n",
      "│       │   │   ├── car_trainval.txt\r\n",
      "│       │   │   ├── car_val.txt\r\n",
      "│       │   │   ├── cat_train.txt\r\n",
      "│       │   │   ├── cat_trainval.txt\r\n",
      "│       │   │   ├── cat_val.txt\r\n",
      "│       │   │   ├── chair_train.txt\r\n",
      "│       │   │   ├── chair_trainval.txt\r\n",
      "│       │   │   ├── chair_val.txt\r\n",
      "│       │   │   ├── cow_train.txt\r\n",
      "│       │   │   ├── cow_trainval.txt\r\n",
      "│       │   │   ├── cow_val.txt\r\n",
      "│       │   │   ├── diningtable_train.txt\r\n",
      "│       │   │   ├── diningtable_trainval.txt\r\n",
      "│       │   │   ├── diningtable_val.txt\r\n",
      "│       │   │   ├── dog_train.txt\r\n",
      "│       │   │   ├── dog_trainval.txt\r\n",
      "│       │   │   ├── dog_val.txt\r\n",
      "│       │   │   ├── horse_train.txt\r\n",
      "│       │   │   ├── horse_trainval.txt\r\n",
      "│       │   │   ├── horse_val.txt\r\n",
      "│       │   │   ├── motorbike_train.txt\r\n",
      "│       │   │   ├── motorbike_trainval.txt\r\n",
      "│       │   │   ├── motorbike_val.txt\r\n",
      "│       │   │   ├── person_train.txt\r\n",
      "│       │   │   ├── person_trainval.txt\r\n",
      "│       │   │   ├── person_val.txt\r\n",
      "│       │   │   ├── pottedplant_train.txt\r\n",
      "│       │   │   ├── pottedplant_trainval.txt\r\n",
      "│       │   │   ├── pottedplant_val.txt\r\n",
      "│       │   │   ├── sheep_train.txt\r\n",
      "│       │   │   ├── sheep_trainval.txt\r\n",
      "│       │   │   ├── sheep_val.txt\r\n",
      "│       │   │   ├── sofa_train.txt\r\n",
      "│       │   │   ├── sofa_trainval.txt\r\n",
      "│       │   │   ├── sofa_val.txt\r\n",
      "│       │   │   ├── train_train.txt\r\n",
      "│       │   │   ├── train_trainval.txt\r\n",
      "│       │   │   ├── train.txt\r\n",
      "│       │   │   ├── train_val.txt\r\n",
      "│       │   │   ├── trainval.txt\r\n",
      "│       │   │   ├── tvmonitor_train.txt\r\n",
      "│       │   │   ├── tvmonitor_trainval.txt\r\n",
      "│       │   │   ├── tvmonitor_val.txt\r\n",
      "│       │   │   └── val.txt\r\n",
      "│       │   └── \u001b[01;34mSegmentation\u001b[00m\r\n",
      "│       │       ├── train.txt\r\n",
      "│       │       ├── trainval.txt\r\n",
      "│       │       └── val.txt\r\n",
      "│       ├── \u001b[01;34mJPEGImages\u001b[00m [5011 entries exceeds filelimit, not opening dir]\r\n",
      "│       ├── \u001b[01;34mSegmentationClass\u001b[00m [422 entries exceeds filelimit, not opening dir]\r\n",
      "│       └── \u001b[01;34mSegmentationObject\u001b[00m [422 entries exceeds filelimit, not opening dir]\r\n",
      "└── \u001b[01;31mVOCtrainval_06-Nov-2007.tar\u001b[00m\r\n",
      "\r\n",
      "10 directories, 70 files\r\n"
     ]
    }
   ],
   "source": [
    "!tree /tmp/data/pascal_voc/ --filelimit=100"
   ]
  },
  {
   "cell_type": "code",
   "execution_count": 18,
   "metadata": {},
   "outputs": [
    {
     "name": "stdout",
     "output_type": "stream",
     "text": [
      "Downloading Pascal VOC 2007 test data...\n",
      "Extracting the data..\n"
     ]
    },
    {
     "data": {
      "text/plain": [
       "0"
      ]
     },
     "execution_count": 18,
     "metadata": {},
     "output_type": "execute_result"
    }
   ],
   "source": [
    "print(\"Downloading Pascal VOC 2007 test data...\")\n",
    "os.system(\"wget http://pjreddie.com/media/files/VOCtest_06-Nov-2007.tar\")#431M\n",
    "print(\"Extracting the data..\")\n",
    "os.system(\"tar xf VOCtest_06-Nov-2007.tar\")"
   ]
  },
  {
   "cell_type": "code",
   "execution_count": 19,
   "metadata": {},
   "outputs": [
    {
     "name": "stdout",
     "output_type": "stream",
     "text": [
      "\u001b[01;34m/tmp/data/pascal_voc/\u001b[00m\r\n",
      "├── \u001b[01;34mVOCdevkit\u001b[00m\r\n",
      "│   └── \u001b[01;34mVOC2007\u001b[00m\r\n",
      "│       ├── \u001b[01;34mAnnotations\u001b[00m [9963 entries exceeds filelimit, not opening dir]\r\n",
      "│       ├── \u001b[01;34mImageSets\u001b[00m\r\n",
      "│       │   ├── \u001b[01;34mLayout\u001b[00m\r\n",
      "│       │   │   ├── test.txt\r\n",
      "│       │   │   ├── train.txt\r\n",
      "│       │   │   ├── trainval.txt\r\n",
      "│       │   │   └── val.txt\r\n",
      "│       │   ├── \u001b[01;34mMain\u001b[00m\r\n",
      "│       │   │   ├── aeroplane_test.txt\r\n",
      "│       │   │   ├── aeroplane_train.txt\r\n",
      "│       │   │   ├── aeroplane_trainval.txt\r\n",
      "│       │   │   ├── aeroplane_val.txt\r\n",
      "│       │   │   ├── bicycle_test.txt\r\n",
      "│       │   │   ├── bicycle_train.txt\r\n",
      "│       │   │   ├── bicycle_trainval.txt\r\n",
      "│       │   │   ├── bicycle_val.txt\r\n",
      "│       │   │   ├── bird_test.txt\r\n",
      "│       │   │   ├── bird_train.txt\r\n",
      "│       │   │   ├── bird_trainval.txt\r\n",
      "│       │   │   ├── bird_val.txt\r\n",
      "│       │   │   ├── boat_test.txt\r\n",
      "│       │   │   ├── boat_train.txt\r\n",
      "│       │   │   ├── boat_trainval.txt\r\n",
      "│       │   │   ├── boat_val.txt\r\n",
      "│       │   │   ├── bottle_test.txt\r\n",
      "│       │   │   ├── bottle_train.txt\r\n",
      "│       │   │   ├── bottle_trainval.txt\r\n",
      "│       │   │   ├── bottle_val.txt\r\n",
      "│       │   │   ├── bus_test.txt\r\n",
      "│       │   │   ├── bus_train.txt\r\n",
      "│       │   │   ├── bus_trainval.txt\r\n",
      "│       │   │   ├── bus_val.txt\r\n",
      "│       │   │   ├── car_test.txt\r\n",
      "│       │   │   ├── car_train.txt\r\n",
      "│       │   │   ├── car_trainval.txt\r\n",
      "│       │   │   ├── car_val.txt\r\n",
      "│       │   │   ├── cat_test.txt\r\n",
      "│       │   │   ├── cat_train.txt\r\n",
      "│       │   │   ├── cat_trainval.txt\r\n",
      "│       │   │   ├── cat_val.txt\r\n",
      "│       │   │   ├── chair_test.txt\r\n",
      "│       │   │   ├── chair_train.txt\r\n",
      "│       │   │   ├── chair_trainval.txt\r\n",
      "│       │   │   ├── chair_val.txt\r\n",
      "│       │   │   ├── cow_test.txt\r\n",
      "│       │   │   ├── cow_train.txt\r\n",
      "│       │   │   ├── cow_trainval.txt\r\n",
      "│       │   │   ├── cow_val.txt\r\n",
      "│       │   │   ├── diningtable_test.txt\r\n",
      "│       │   │   ├── diningtable_train.txt\r\n",
      "│       │   │   ├── diningtable_trainval.txt\r\n",
      "│       │   │   ├── diningtable_val.txt\r\n",
      "│       │   │   ├── dog_test.txt\r\n",
      "│       │   │   ├── dog_train.txt\r\n",
      "│       │   │   ├── dog_trainval.txt\r\n",
      "│       │   │   ├── dog_val.txt\r\n",
      "│       │   │   ├── horse_test.txt\r\n",
      "│       │   │   ├── horse_train.txt\r\n",
      "│       │   │   ├── horse_trainval.txt\r\n",
      "│       │   │   ├── horse_val.txt\r\n",
      "│       │   │   ├── motorbike_test.txt\r\n",
      "│       │   │   ├── motorbike_train.txt\r\n",
      "│       │   │   ├── motorbike_trainval.txt\r\n",
      "│       │   │   ├── motorbike_val.txt\r\n",
      "│       │   │   ├── person_test.txt\r\n",
      "│       │   │   ├── person_train.txt\r\n",
      "│       │   │   ├── person_trainval.txt\r\n",
      "│       │   │   ├── person_val.txt\r\n",
      "│       │   │   ├── pottedplant_test.txt\r\n",
      "│       │   │   ├── pottedplant_train.txt\r\n",
      "│       │   │   ├── pottedplant_trainval.txt\r\n",
      "│       │   │   ├── pottedplant_val.txt\r\n",
      "│       │   │   ├── sheep_test.txt\r\n",
      "│       │   │   ├── sheep_train.txt\r\n",
      "│       │   │   ├── sheep_trainval.txt\r\n",
      "│       │   │   ├── sheep_val.txt\r\n",
      "│       │   │   ├── sofa_test.txt\r\n",
      "│       │   │   ├── sofa_train.txt\r\n",
      "│       │   │   ├── sofa_trainval.txt\r\n",
      "│       │   │   ├── sofa_val.txt\r\n",
      "│       │   │   ├── test.txt\r\n",
      "│       │   │   ├── train_test.txt\r\n",
      "│       │   │   ├── train_train.txt\r\n",
      "│       │   │   ├── train_trainval.txt\r\n",
      "│       │   │   ├── train.txt\r\n",
      "│       │   │   ├── train_val.txt\r\n",
      "│       │   │   ├── trainval.txt\r\n",
      "│       │   │   ├── tvmonitor_test.txt\r\n",
      "│       │   │   ├── tvmonitor_train.txt\r\n",
      "│       │   │   ├── tvmonitor_trainval.txt\r\n",
      "│       │   │   ├── tvmonitor_val.txt\r\n",
      "│       │   │   └── val.txt\r\n",
      "│       │   └── \u001b[01;34mSegmentation\u001b[00m\r\n",
      "│       │       ├── test.txt\r\n",
      "│       │       ├── train.txt\r\n",
      "│       │       ├── trainval.txt\r\n",
      "│       │       └── val.txt\r\n",
      "│       ├── \u001b[01;34mJPEGImages\u001b[00m [9963 entries exceeds filelimit, not opening dir]\r\n",
      "│       ├── \u001b[01;34mSegmentationClass\u001b[00m [632 entries exceeds filelimit, not opening dir]\r\n",
      "│       └── \u001b[01;34mSegmentationObject\u001b[00m [632 entries exceeds filelimit, not opening dir]\r\n",
      "├── \u001b[01;31mVOCtest_06-Nov-2007.tar\u001b[00m\r\n",
      "└── \u001b[01;31mVOCtrainval_06-Nov-2007.tar\u001b[00m\r\n",
      "\r\n",
      "10 directories, 94 files\r\n"
     ]
    }
   ],
   "source": [
    "!tree /tmp/data/pascal_voc/ --filelimit=100"
   ]
  },
  {
   "cell_type": "markdown",
   "metadata": {},
   "source": [
    "可以看到，两个文件夹的结构相同，合在了一起。接着下载2012年的VOC数据集"
   ]
  },
  {
   "cell_type": "code",
   "execution_count": 33,
   "metadata": {},
   "outputs": [
    {
     "name": "stdout",
     "output_type": "stream",
     "text": [
      "Downloading Pascal VOC 2012 trainval data...\n",
      "Extracting the data..\n"
     ]
    },
    {
     "data": {
      "text/plain": [
       "0"
      ]
     },
     "execution_count": 33,
     "metadata": {},
     "output_type": "execute_result"
    }
   ],
   "source": [
    "print(\"Downloading Pascal VOC 2012 trainval data...\")\n",
    "#os.system(\"wget http://pjreddie.com/media/files/VOCtrainval_11-May-2012.tar\")#1.8G\n",
    "print(\"Extracting the data..\")\n",
    "os.system(\"tar xf VOCtrainval_11-May-2012.tar\")"
   ]
  },
  {
   "cell_type": "code",
   "execution_count": 9,
   "metadata": {
    "scrolled": false
   },
   "outputs": [
    {
     "name": "stdout",
     "output_type": "stream",
     "text": [
      "\u001b[01;34m/tmp/data/pascal_voc/\u001b[00m\n",
      "├── \u001b[01;34mVOCdevkit\u001b[00m\n",
      "│   ├── \u001b[01;34mVOC2007\u001b[00m\n",
      "│   │   ├── \u001b[01;34mAnnotations\u001b[00m [9963 entries exceeds filelimit, not opening dir]\n",
      "│   │   ├── \u001b[01;34mImageSets\u001b[00m\n",
      "│   │   │   ├── \u001b[01;34mLayout\u001b[00m\n",
      "│   │   │   │   ├── test.txt\n",
      "│   │   │   │   ├── train.txt\n",
      "│   │   │   │   ├── trainval.txt\n",
      "│   │   │   │   └── val.txt\n",
      "│   │   │   ├── \u001b[01;34mMain\u001b[00m\n",
      "│   │   │   │   ├── aeroplane_test.txt\n",
      "│   │   │   │   ├── aeroplane_train.txt\n",
      "│   │   │   │   ├── aeroplane_trainval.txt\n",
      "│   │   │   │   ├── aeroplane_val.txt\n",
      "│   │   │   │   ├── bicycle_test.txt\n",
      "│   │   │   │   ├── bicycle_train.txt\n",
      "│   │   │   │   ├── bicycle_trainval.txt\n",
      "│   │   │   │   ├── bicycle_val.txt\n",
      "│   │   │   │   ├── bird_test.txt\n",
      "│   │   │   │   ├── bird_train.txt\n",
      "│   │   │   │   ├── bird_trainval.txt\n",
      "│   │   │   │   ├── bird_val.txt\n",
      "│   │   │   │   ├── boat_test.txt\n",
      "│   │   │   │   ├── boat_train.txt\n",
      "│   │   │   │   ├── boat_trainval.txt\n",
      "│   │   │   │   ├── boat_val.txt\n",
      "│   │   │   │   ├── bottle_test.txt\n",
      "│   │   │   │   ├── bottle_train.txt\n",
      "│   │   │   │   ├── bottle_trainval.txt\n",
      "│   │   │   │   ├── bottle_val.txt\n",
      "│   │   │   │   ├── bus_test.txt\n",
      "│   │   │   │   ├── bus_train.txt\n",
      "│   │   │   │   ├── bus_trainval.txt\n",
      "│   │   │   │   ├── bus_val.txt\n",
      "│   │   │   │   ├── car_test.txt\n",
      "│   │   │   │   ├── car_train.txt\n",
      "│   │   │   │   ├── car_trainval.txt\n",
      "│   │   │   │   ├── car_val.txt\n",
      "│   │   │   │   ├── cat_test.txt\n",
      "│   │   │   │   ├── cat_train.txt\n",
      "│   │   │   │   ├── cat_trainval.txt\n",
      "│   │   │   │   ├── cat_val.txt\n",
      "│   │   │   │   ├── chair_test.txt\n",
      "│   │   │   │   ├── chair_train.txt\n",
      "│   │   │   │   ├── chair_trainval.txt\n",
      "│   │   │   │   ├── chair_val.txt\n",
      "│   │   │   │   ├── cow_test.txt\n",
      "│   │   │   │   ├── cow_train.txt\n",
      "│   │   │   │   ├── cow_trainval.txt\n",
      "│   │   │   │   ├── cow_val.txt\n",
      "│   │   │   │   ├── diningtable_test.txt\n",
      "│   │   │   │   ├── diningtable_train.txt\n",
      "│   │   │   │   ├── diningtable_trainval.txt\n",
      "│   │   │   │   ├── diningtable_val.txt\n",
      "│   │   │   │   ├── dog_test.txt\n",
      "│   │   │   │   ├── dog_train.txt\n",
      "│   │   │   │   ├── dog_trainval.txt\n",
      "│   │   │   │   ├── dog_val.txt\n",
      "│   │   │   │   ├── horse_test.txt\n",
      "│   │   │   │   ├── horse_train.txt\n",
      "│   │   │   │   ├── horse_trainval.txt\n",
      "│   │   │   │   ├── horse_val.txt\n",
      "│   │   │   │   ├── motorbike_test.txt\n",
      "│   │   │   │   ├── motorbike_train.txt\n",
      "│   │   │   │   ├── motorbike_trainval.txt\n",
      "│   │   │   │   ├── motorbike_val.txt\n",
      "│   │   │   │   ├── person_test.txt\n",
      "│   │   │   │   ├── person_train.txt\n",
      "│   │   │   │   ├── person_trainval.txt\n",
      "│   │   │   │   ├── person_val.txt\n",
      "│   │   │   │   ├── pottedplant_test.txt\n",
      "│   │   │   │   ├── pottedplant_train.txt\n",
      "│   │   │   │   ├── pottedplant_trainval.txt\n",
      "│   │   │   │   ├── pottedplant_val.txt\n",
      "│   │   │   │   ├── sheep_test.txt\n",
      "│   │   │   │   ├── sheep_train.txt\n",
      "│   │   │   │   ├── sheep_trainval.txt\n",
      "│   │   │   │   ├── sheep_val.txt\n",
      "│   │   │   │   ├── sofa_test.txt\n",
      "│   │   │   │   ├── sofa_train.txt\n",
      "│   │   │   │   ├── sofa_trainval.txt\n",
      "│   │   │   │   ├── sofa_val.txt\n",
      "│   │   │   │   ├── test.txt\n",
      "│   │   │   │   ├── train_test.txt\n",
      "│   │   │   │   ├── train_train.txt\n",
      "│   │   │   │   ├── train_trainval.txt\n",
      "│   │   │   │   ├── train.txt\n",
      "│   │   │   │   ├── train_val.txt\n",
      "│   │   │   │   ├── trainval.txt\n",
      "│   │   │   │   ├── tvmonitor_test.txt\n",
      "│   │   │   │   ├── tvmonitor_train.txt\n",
      "│   │   │   │   ├── tvmonitor_trainval.txt\n",
      "│   │   │   │   ├── tvmonitor_val.txt\n",
      "│   │   │   │   └── val.txt\n",
      "│   │   │   └── \u001b[01;34mSegmentation\u001b[00m\n",
      "│   │   │       ├── test.txt\n",
      "│   │   │       ├── train.txt\n",
      "│   │   │       ├── trainval.txt\n",
      "│   │   │       └── val.txt\n",
      "│   │   ├── \u001b[01;34mJPEGImages\u001b[00m [9963 entries exceeds filelimit, not opening dir]\n",
      "│   │   ├── \u001b[01;34mSegmentationClass\u001b[00m [632 entries exceeds filelimit, not opening dir]\n",
      "│   │   └── \u001b[01;34mSegmentationObject\u001b[00m [632 entries exceeds filelimit, not opening dir]\n",
      "│   └── \u001b[01;34mVOC2012\u001b[00m\n",
      "│       ├── \u001b[01;34mAnnotations\u001b[00m [17125 entries exceeds filelimit, not opening dir]\n",
      "│       ├── \u001b[01;34mImageSets\u001b[00m\n",
      "│       │   ├── \u001b[01;34mAction\u001b[00m\n",
      "│       │   │   ├── \u001b[01;32mjumping_train.txt\u001b[00m\n",
      "│       │   │   ├── \u001b[01;32mjumping_trainval.txt\u001b[00m\n",
      "│       │   │   ├── \u001b[01;32mjumping_val.txt\u001b[00m\n",
      "│       │   │   ├── \u001b[01;32mphoning_train.txt\u001b[00m\n",
      "│       │   │   ├── \u001b[01;32mphoning_trainval.txt\u001b[00m\n",
      "│       │   │   ├── \u001b[01;32mphoning_val.txt\u001b[00m\n",
      "│       │   │   ├── \u001b[01;32mplayinginstrument_train.txt\u001b[00m\n",
      "│       │   │   ├── \u001b[01;32mplayinginstrument_trainval.txt\u001b[00m\n",
      "│       │   │   ├── \u001b[01;32mplayinginstrument_val.txt\u001b[00m\n",
      "│       │   │   ├── \u001b[01;32mreading_train.txt\u001b[00m\n",
      "│       │   │   ├── \u001b[01;32mreading_trainval.txt\u001b[00m\n",
      "│       │   │   ├── \u001b[01;32mreading_val.txt\u001b[00m\n",
      "│       │   │   ├── \u001b[01;32mridingbike_train.txt\u001b[00m\n",
      "│       │   │   ├── \u001b[01;32mridingbike_trainval.txt\u001b[00m\n",
      "│       │   │   ├── \u001b[01;32mridingbike_val.txt\u001b[00m\n",
      "│       │   │   ├── \u001b[01;32mridinghorse_train.txt\u001b[00m\n",
      "│       │   │   ├── \u001b[01;32mridinghorse_trainval.txt\u001b[00m\n",
      "│       │   │   ├── \u001b[01;32mridinghorse_val.txt\u001b[00m\n",
      "│       │   │   ├── \u001b[01;32mrunning_train.txt\u001b[00m\n",
      "│       │   │   ├── \u001b[01;32mrunning_trainval.txt\u001b[00m\n",
      "│       │   │   ├── \u001b[01;32mrunning_val.txt\u001b[00m\n",
      "│       │   │   ├── \u001b[01;32mtakingphoto_train.txt\u001b[00m\n",
      "│       │   │   ├── \u001b[01;32mtakingphoto_trainval.txt\u001b[00m\n",
      "│       │   │   ├── \u001b[01;32mtakingphoto_val.txt\u001b[00m\n",
      "│       │   │   ├── \u001b[01;32mtrain.txt\u001b[00m\n",
      "│       │   │   ├── \u001b[01;32mtrainval.txt\u001b[00m\n",
      "│       │   │   ├── \u001b[01;32musingcomputer_train.txt\u001b[00m\n",
      "│       │   │   ├── \u001b[01;32musingcomputer_trainval.txt\u001b[00m\n",
      "│       │   │   ├── \u001b[01;32musingcomputer_val.txt\u001b[00m\n",
      "│       │   │   ├── \u001b[01;32mval.txt\u001b[00m\n",
      "│       │   │   ├── \u001b[01;32mwalking_train.txt\u001b[00m\n",
      "│       │   │   ├── \u001b[01;32mwalking_trainval.txt\u001b[00m\n",
      "│       │   │   └── \u001b[01;32mwalking_val.txt\u001b[00m\n",
      "│       │   ├── \u001b[01;34mLayout\u001b[00m\n",
      "│       │   │   ├── \u001b[01;32mtrain.txt\u001b[00m\n",
      "│       │   │   ├── \u001b[01;32mtrainval.txt\u001b[00m\n",
      "│       │   │   └── \u001b[01;32mval.txt\u001b[00m\n",
      "│       │   ├── \u001b[01;34mMain\u001b[00m\n",
      "│       │   │   ├── \u001b[01;32maeroplane_train.txt\u001b[00m\n",
      "│       │   │   ├── \u001b[01;32maeroplane_trainval.txt\u001b[00m\n",
      "│       │   │   ├── \u001b[01;32maeroplane_val.txt\u001b[00m\n",
      "│       │   │   ├── \u001b[01;32mbicycle_train.txt\u001b[00m\n",
      "│       │   │   ├── \u001b[01;32mbicycle_trainval.txt\u001b[00m\n",
      "│       │   │   ├── \u001b[01;32mbicycle_val.txt\u001b[00m\n",
      "│       │   │   ├── \u001b[01;32mbird_train.txt\u001b[00m\n",
      "│       │   │   ├── \u001b[01;32mbird_trainval.txt\u001b[00m\n",
      "│       │   │   ├── \u001b[01;32mbird_val.txt\u001b[00m\n",
      "│       │   │   ├── \u001b[01;32mboat_train.txt\u001b[00m\n",
      "│       │   │   ├── \u001b[01;32mboat_trainval.txt\u001b[00m\n",
      "│       │   │   ├── \u001b[01;32mboat_val.txt\u001b[00m\n",
      "│       │   │   ├── \u001b[01;32mbottle_train.txt\u001b[00m\n",
      "│       │   │   ├── \u001b[01;32mbottle_trainval.txt\u001b[00m\n",
      "│       │   │   ├── \u001b[01;32mbottle_val.txt\u001b[00m\n",
      "│       │   │   ├── \u001b[01;32mbus_train.txt\u001b[00m\n",
      "│       │   │   ├── \u001b[01;32mbus_trainval.txt\u001b[00m\n",
      "│       │   │   ├── \u001b[01;32mbus_val.txt\u001b[00m\n",
      "│       │   │   ├── \u001b[01;32mcar_train.txt\u001b[00m\n",
      "│       │   │   ├── \u001b[01;32mcar_trainval.txt\u001b[00m\n",
      "│       │   │   ├── \u001b[01;32mcar_val.txt\u001b[00m\n",
      "│       │   │   ├── \u001b[01;32mcat_train.txt\u001b[00m\n",
      "│       │   │   ├── \u001b[01;32mcat_trainval.txt\u001b[00m\n",
      "│       │   │   ├── \u001b[01;32mcat_val.txt\u001b[00m\n",
      "│       │   │   ├── \u001b[01;32mchair_train.txt\u001b[00m\n",
      "│       │   │   ├── \u001b[01;32mchair_trainval.txt\u001b[00m\n",
      "│       │   │   ├── \u001b[01;32mchair_val.txt\u001b[00m\n",
      "│       │   │   ├── \u001b[01;32mcow_train.txt\u001b[00m\n",
      "│       │   │   ├── \u001b[01;32mcow_trainval.txt\u001b[00m\n",
      "│       │   │   ├── \u001b[01;32mcow_val.txt\u001b[00m\n",
      "│       │   │   ├── \u001b[01;32mdiningtable_train.txt\u001b[00m\n",
      "│       │   │   ├── \u001b[01;32mdiningtable_trainval.txt\u001b[00m\n",
      "│       │   │   ├── \u001b[01;32mdiningtable_val.txt\u001b[00m\n",
      "│       │   │   ├── \u001b[01;32mdog_train.txt\u001b[00m\n",
      "│       │   │   ├── \u001b[01;32mdog_trainval.txt\u001b[00m\n",
      "│       │   │   ├── \u001b[01;32mdog_val.txt\u001b[00m\n",
      "│       │   │   ├── \u001b[01;32mhorse_train.txt\u001b[00m\n",
      "│       │   │   ├── \u001b[01;32mhorse_trainval.txt\u001b[00m\n",
      "│       │   │   ├── \u001b[01;32mhorse_val.txt\u001b[00m\n",
      "│       │   │   ├── \u001b[01;32mmotorbike_train.txt\u001b[00m\n",
      "│       │   │   ├── \u001b[01;32mmotorbike_trainval.txt\u001b[00m\n",
      "│       │   │   ├── \u001b[01;32mmotorbike_val.txt\u001b[00m\n",
      "│       │   │   ├── \u001b[01;32mperson_train.txt\u001b[00m\n",
      "│       │   │   ├── \u001b[01;32mperson_trainval.txt\u001b[00m\n",
      "│       │   │   ├── \u001b[01;32mperson_val.txt\u001b[00m\n",
      "│       │   │   ├── \u001b[01;32mpottedplant_train.txt\u001b[00m\n",
      "│       │   │   ├── \u001b[01;32mpottedplant_trainval.txt\u001b[00m\n",
      "│       │   │   ├── \u001b[01;32mpottedplant_val.txt\u001b[00m\n",
      "│       │   │   ├── \u001b[01;32msheep_train.txt\u001b[00m\n",
      "│       │   │   ├── \u001b[01;32msheep_trainval.txt\u001b[00m\n",
      "│       │   │   ├── \u001b[01;32msheep_val.txt\u001b[00m\n",
      "│       │   │   ├── \u001b[01;32msofa_train.txt\u001b[00m\n",
      "│       │   │   ├── \u001b[01;32msofa_trainval.txt\u001b[00m\n",
      "│       │   │   ├── \u001b[01;32msofa_val.txt\u001b[00m\n",
      "│       │   │   ├── \u001b[01;32mtrain_train.txt\u001b[00m\n",
      "│       │   │   ├── \u001b[01;32mtrain_trainval.txt\u001b[00m\n",
      "│       │   │   ├── \u001b[01;32mtrain.txt\u001b[00m\n",
      "│       │   │   ├── \u001b[01;32mtrain_val.txt\u001b[00m\n",
      "│       │   │   ├── \u001b[01;32mtrainval.txt\u001b[00m\n",
      "│       │   │   ├── \u001b[01;32mtvmonitor_train.txt\u001b[00m\n",
      "│       │   │   ├── \u001b[01;32mtvmonitor_trainval.txt\u001b[00m\n",
      "│       │   │   ├── \u001b[01;32mtvmonitor_val.txt\u001b[00m\n",
      "│       │   │   └── \u001b[01;32mval.txt\u001b[00m\n",
      "│       │   └── \u001b[01;34mSegmentation\u001b[00m\n",
      "│       │       ├── \u001b[01;32mtrain.txt\u001b[00m\n",
      "│       │       ├── \u001b[01;32mtrainval.txt\u001b[00m\n",
      "│       │       └── \u001b[01;32mval.txt\u001b[00m\n",
      "│       ├── \u001b[01;34mJPEGImages\u001b[00m [17125 entries exceeds filelimit, not opening dir]\n",
      "│       ├── \u001b[01;34mSegmentationClass\u001b[00m [2913 entries exceeds filelimit, not opening dir]\n",
      "│       └── \u001b[01;34mSegmentationObject\u001b[00m [2913 entries exceeds filelimit, not opening dir]\n",
      "├── \u001b[01;31mVOCtest_06-Nov-2007.tar\u001b[00m\n",
      "├── \u001b[01;31mVOCtrainval_06-Nov-2007.tar\u001b[00m\n",
      "└── \u001b[01;31mVOCtrainval_11-May-2012.tar\u001b[00m\n",
      "\n",
      "20 directories, 197 files\n"
     ]
    }
   ],
   "source": [
    "!tree /tmp/data/pascal_voc/ --filelimit=100"
   ]
  },
  {
   "cell_type": "code",
   "execution_count": 11,
   "metadata": {},
   "outputs": [
    {
     "name": "stdout",
     "output_type": "stream",
     "text": [
      "Downloading Pascal VOC 2012 test data...\n",
      "Extracting the data..\n"
     ]
    },
    {
     "data": {
      "text/plain": [
       "512"
      ]
     },
     "execution_count": 11,
     "metadata": {},
     "output_type": "execute_result"
    }
   ],
   "source": [
    "#由于VOC2012测试集没有标注，所以单放一个文件夹\n",
    "os.mkdir(\"VOC2012TEST\")\n",
    "os.chdir(\"VOC2012TEST\")\n",
    "print(\"Downloading Pascal VOC 2012 test data...\")\n",
    "# os.system(\"wget http://pjreddie.com/media/files/VOC2012test.tar\")#1.8GM 无标签\n",
    "print(\"Extracting the data..\")\n",
    "os.system(\"tar xf VOC2012test.tar\")\n",
    "os.chdir(\"/tmp/data/pascal_voc/VOCdevkit/VOC2007\")"
   ]
  },
  {
   "cell_type": "code",
   "execution_count": 12,
   "metadata": {
    "scrolled": false
   },
   "outputs": [
    {
     "name": "stdout",
     "output_type": "stream",
     "text": [
      "\u001b[01;34m/tmp/data/pascal_voc/\u001b[00m\n",
      "├── \u001b[01;34mVOC2012TEST\u001b[00m\n",
      "├── \u001b[01;34mVOCdevkit\u001b[00m\n",
      "│   ├── \u001b[01;34mVOC2007\u001b[00m\n",
      "│   │   ├── \u001b[01;34mAnnotations\u001b[00m [9963 entries exceeds filelimit, not opening dir]\n",
      "│   │   ├── \u001b[01;34mImageSets\u001b[00m\n",
      "│   │   │   ├── \u001b[01;34mLayout\u001b[00m\n",
      "│   │   │   │   ├── test.txt\n",
      "│   │   │   │   ├── train.txt\n",
      "│   │   │   │   ├── trainval.txt\n",
      "│   │   │   │   └── val.txt\n",
      "│   │   │   ├── \u001b[01;34mMain\u001b[00m\n",
      "│   │   │   │   ├── aeroplane_test.txt\n",
      "│   │   │   │   ├── aeroplane_train.txt\n",
      "│   │   │   │   ├── aeroplane_trainval.txt\n",
      "│   │   │   │   ├── aeroplane_val.txt\n",
      "│   │   │   │   ├── bicycle_test.txt\n",
      "│   │   │   │   ├── bicycle_train.txt\n",
      "│   │   │   │   ├── bicycle_trainval.txt\n",
      "│   │   │   │   ├── bicycle_val.txt\n",
      "│   │   │   │   ├── bird_test.txt\n",
      "│   │   │   │   ├── bird_train.txt\n",
      "│   │   │   │   ├── bird_trainval.txt\n",
      "│   │   │   │   ├── bird_val.txt\n",
      "│   │   │   │   ├── boat_test.txt\n",
      "│   │   │   │   ├── boat_train.txt\n",
      "│   │   │   │   ├── boat_trainval.txt\n",
      "│   │   │   │   ├── boat_val.txt\n",
      "│   │   │   │   ├── bottle_test.txt\n",
      "│   │   │   │   ├── bottle_train.txt\n",
      "│   │   │   │   ├── bottle_trainval.txt\n",
      "│   │   │   │   ├── bottle_val.txt\n",
      "│   │   │   │   ├── bus_test.txt\n",
      "│   │   │   │   ├── bus_train.txt\n",
      "│   │   │   │   ├── bus_trainval.txt\n",
      "│   │   │   │   ├── bus_val.txt\n",
      "│   │   │   │   ├── car_test.txt\n",
      "│   │   │   │   ├── car_train.txt\n",
      "│   │   │   │   ├── car_trainval.txt\n",
      "│   │   │   │   ├── car_val.txt\n",
      "│   │   │   │   ├── cat_test.txt\n",
      "│   │   │   │   ├── cat_train.txt\n",
      "│   │   │   │   ├── cat_trainval.txt\n",
      "│   │   │   │   ├── cat_val.txt\n",
      "│   │   │   │   ├── chair_test.txt\n",
      "│   │   │   │   ├── chair_train.txt\n",
      "│   │   │   │   ├── chair_trainval.txt\n",
      "│   │   │   │   ├── chair_val.txt\n",
      "│   │   │   │   ├── cow_test.txt\n",
      "│   │   │   │   ├── cow_train.txt\n",
      "│   │   │   │   ├── cow_trainval.txt\n",
      "│   │   │   │   ├── cow_val.txt\n",
      "│   │   │   │   ├── diningtable_test.txt\n",
      "│   │   │   │   ├── diningtable_train.txt\n",
      "│   │   │   │   ├── diningtable_trainval.txt\n",
      "│   │   │   │   ├── diningtable_val.txt\n",
      "│   │   │   │   ├── dog_test.txt\n",
      "│   │   │   │   ├── dog_train.txt\n",
      "│   │   │   │   ├── dog_trainval.txt\n",
      "│   │   │   │   ├── dog_val.txt\n",
      "│   │   │   │   ├── horse_test.txt\n",
      "│   │   │   │   ├── horse_train.txt\n",
      "│   │   │   │   ├── horse_trainval.txt\n",
      "│   │   │   │   ├── horse_val.txt\n",
      "│   │   │   │   ├── motorbike_test.txt\n",
      "│   │   │   │   ├── motorbike_train.txt\n",
      "│   │   │   │   ├── motorbike_trainval.txt\n",
      "│   │   │   │   ├── motorbike_val.txt\n",
      "│   │   │   │   ├── person_test.txt\n",
      "│   │   │   │   ├── person_train.txt\n",
      "│   │   │   │   ├── person_trainval.txt\n",
      "│   │   │   │   ├── person_val.txt\n",
      "│   │   │   │   ├── pottedplant_test.txt\n",
      "│   │   │   │   ├── pottedplant_train.txt\n",
      "│   │   │   │   ├── pottedplant_trainval.txt\n",
      "│   │   │   │   ├── pottedplant_val.txt\n",
      "│   │   │   │   ├── sheep_test.txt\n",
      "│   │   │   │   ├── sheep_train.txt\n",
      "│   │   │   │   ├── sheep_trainval.txt\n",
      "│   │   │   │   ├── sheep_val.txt\n",
      "│   │   │   │   ├── sofa_test.txt\n",
      "│   │   │   │   ├── sofa_train.txt\n",
      "│   │   │   │   ├── sofa_trainval.txt\n",
      "│   │   │   │   ├── sofa_val.txt\n",
      "│   │   │   │   ├── test.txt\n",
      "│   │   │   │   ├── train_test.txt\n",
      "│   │   │   │   ├── train_train.txt\n",
      "│   │   │   │   ├── train_trainval.txt\n",
      "│   │   │   │   ├── train.txt\n",
      "│   │   │   │   ├── train_val.txt\n",
      "│   │   │   │   ├── trainval.txt\n",
      "│   │   │   │   ├── tvmonitor_test.txt\n",
      "│   │   │   │   ├── tvmonitor_train.txt\n",
      "│   │   │   │   ├── tvmonitor_trainval.txt\n",
      "│   │   │   │   ├── tvmonitor_val.txt\n",
      "│   │   │   │   └── val.txt\n",
      "│   │   │   └── \u001b[01;34mSegmentation\u001b[00m\n",
      "│   │   │       ├── test.txt\n",
      "│   │   │       ├── train.txt\n",
      "│   │   │       ├── trainval.txt\n",
      "│   │   │       └── val.txt\n",
      "│   │   ├── \u001b[01;34mJPEGImages\u001b[00m [9963 entries exceeds filelimit, not opening dir]\n",
      "│   │   ├── \u001b[01;34mSegmentationClass\u001b[00m [632 entries exceeds filelimit, not opening dir]\n",
      "│   │   └── \u001b[01;34mSegmentationObject\u001b[00m [632 entries exceeds filelimit, not opening dir]\n",
      "│   └── \u001b[01;34mVOC2012\u001b[00m\n",
      "│       ├── \u001b[01;34mAnnotations\u001b[00m [17125 entries exceeds filelimit, not opening dir]\n",
      "│       ├── \u001b[01;34mImageSets\u001b[00m\n",
      "│       │   ├── \u001b[01;34mAction\u001b[00m\n",
      "│       │   │   ├── \u001b[01;32mjumping_train.txt\u001b[00m\n",
      "│       │   │   ├── \u001b[01;32mjumping_trainval.txt\u001b[00m\n",
      "│       │   │   ├── \u001b[01;32mjumping_val.txt\u001b[00m\n",
      "│       │   │   ├── \u001b[01;32mphoning_train.txt\u001b[00m\n",
      "│       │   │   ├── \u001b[01;32mphoning_trainval.txt\u001b[00m\n",
      "│       │   │   ├── \u001b[01;32mphoning_val.txt\u001b[00m\n",
      "│       │   │   ├── \u001b[01;32mplayinginstrument_train.txt\u001b[00m\n",
      "│       │   │   ├── \u001b[01;32mplayinginstrument_trainval.txt\u001b[00m\n",
      "│       │   │   ├── \u001b[01;32mplayinginstrument_val.txt\u001b[00m\n",
      "│       │   │   ├── \u001b[01;32mreading_train.txt\u001b[00m\n",
      "│       │   │   ├── \u001b[01;32mreading_trainval.txt\u001b[00m\n",
      "│       │   │   ├── \u001b[01;32mreading_val.txt\u001b[00m\n",
      "│       │   │   ├── \u001b[01;32mridingbike_train.txt\u001b[00m\n",
      "│       │   │   ├── \u001b[01;32mridingbike_trainval.txt\u001b[00m\n",
      "│       │   │   ├── \u001b[01;32mridingbike_val.txt\u001b[00m\n",
      "│       │   │   ├── \u001b[01;32mridinghorse_train.txt\u001b[00m\n",
      "│       │   │   ├── \u001b[01;32mridinghorse_trainval.txt\u001b[00m\n",
      "│       │   │   ├── \u001b[01;32mridinghorse_val.txt\u001b[00m\n",
      "│       │   │   ├── \u001b[01;32mrunning_train.txt\u001b[00m\n",
      "│       │   │   ├── \u001b[01;32mrunning_trainval.txt\u001b[00m\n",
      "│       │   │   ├── \u001b[01;32mrunning_val.txt\u001b[00m\n",
      "│       │   │   ├── \u001b[01;32mtakingphoto_train.txt\u001b[00m\n",
      "│       │   │   ├── \u001b[01;32mtakingphoto_trainval.txt\u001b[00m\n",
      "│       │   │   ├── \u001b[01;32mtakingphoto_val.txt\u001b[00m\n",
      "│       │   │   ├── \u001b[01;32mtrain.txt\u001b[00m\n",
      "│       │   │   ├── \u001b[01;32mtrainval.txt\u001b[00m\n",
      "│       │   │   ├── \u001b[01;32musingcomputer_train.txt\u001b[00m\n",
      "│       │   │   ├── \u001b[01;32musingcomputer_trainval.txt\u001b[00m\n",
      "│       │   │   ├── \u001b[01;32musingcomputer_val.txt\u001b[00m\n",
      "│       │   │   ├── \u001b[01;32mval.txt\u001b[00m\n",
      "│       │   │   ├── \u001b[01;32mwalking_train.txt\u001b[00m\n",
      "│       │   │   ├── \u001b[01;32mwalking_trainval.txt\u001b[00m\n",
      "│       │   │   └── \u001b[01;32mwalking_val.txt\u001b[00m\n",
      "│       │   ├── \u001b[01;34mLayout\u001b[00m\n",
      "│       │   │   ├── \u001b[01;32mtrain.txt\u001b[00m\n",
      "│       │   │   ├── \u001b[01;32mtrainval.txt\u001b[00m\n",
      "│       │   │   └── \u001b[01;32mval.txt\u001b[00m\n",
      "│       │   ├── \u001b[01;34mMain\u001b[00m\n",
      "│       │   │   ├── \u001b[01;32maeroplane_train.txt\u001b[00m\n",
      "│       │   │   ├── \u001b[01;32maeroplane_trainval.txt\u001b[00m\n",
      "│       │   │   ├── \u001b[01;32maeroplane_val.txt\u001b[00m\n",
      "│       │   │   ├── \u001b[01;32mbicycle_train.txt\u001b[00m\n",
      "│       │   │   ├── \u001b[01;32mbicycle_trainval.txt\u001b[00m\n",
      "│       │   │   ├── \u001b[01;32mbicycle_val.txt\u001b[00m\n",
      "│       │   │   ├── \u001b[01;32mbird_train.txt\u001b[00m\n",
      "│       │   │   ├── \u001b[01;32mbird_trainval.txt\u001b[00m\n",
      "│       │   │   ├── \u001b[01;32mbird_val.txt\u001b[00m\n",
      "│       │   │   ├── \u001b[01;32mboat_train.txt\u001b[00m\n",
      "│       │   │   ├── \u001b[01;32mboat_trainval.txt\u001b[00m\n",
      "│       │   │   ├── \u001b[01;32mboat_val.txt\u001b[00m\n",
      "│       │   │   ├── \u001b[01;32mbottle_train.txt\u001b[00m\n",
      "│       │   │   ├── \u001b[01;32mbottle_trainval.txt\u001b[00m\n",
      "│       │   │   ├── \u001b[01;32mbottle_val.txt\u001b[00m\n",
      "│       │   │   ├── \u001b[01;32mbus_train.txt\u001b[00m\n",
      "│       │   │   ├── \u001b[01;32mbus_trainval.txt\u001b[00m\n",
      "│       │   │   ├── \u001b[01;32mbus_val.txt\u001b[00m\n",
      "│       │   │   ├── \u001b[01;32mcar_train.txt\u001b[00m\n",
      "│       │   │   ├── \u001b[01;32mcar_trainval.txt\u001b[00m\n",
      "│       │   │   ├── \u001b[01;32mcar_val.txt\u001b[00m\n",
      "│       │   │   ├── \u001b[01;32mcat_train.txt\u001b[00m\n",
      "│       │   │   ├── \u001b[01;32mcat_trainval.txt\u001b[00m\n",
      "│       │   │   ├── \u001b[01;32mcat_val.txt\u001b[00m\n",
      "│       │   │   ├── \u001b[01;32mchair_train.txt\u001b[00m\n",
      "│       │   │   ├── \u001b[01;32mchair_trainval.txt\u001b[00m\n",
      "│       │   │   ├── \u001b[01;32mchair_val.txt\u001b[00m\n",
      "│       │   │   ├── \u001b[01;32mcow_train.txt\u001b[00m\n",
      "│       │   │   ├── \u001b[01;32mcow_trainval.txt\u001b[00m\n",
      "│       │   │   ├── \u001b[01;32mcow_val.txt\u001b[00m\n",
      "│       │   │   ├── \u001b[01;32mdiningtable_train.txt\u001b[00m\n",
      "│       │   │   ├── \u001b[01;32mdiningtable_trainval.txt\u001b[00m\n",
      "│       │   │   ├── \u001b[01;32mdiningtable_val.txt\u001b[00m\n",
      "│       │   │   ├── \u001b[01;32mdog_train.txt\u001b[00m\n",
      "│       │   │   ├── \u001b[01;32mdog_trainval.txt\u001b[00m\n",
      "│       │   │   ├── \u001b[01;32mdog_val.txt\u001b[00m\n",
      "│       │   │   ├── \u001b[01;32mhorse_train.txt\u001b[00m\n",
      "│       │   │   ├── \u001b[01;32mhorse_trainval.txt\u001b[00m\n",
      "│       │   │   ├── \u001b[01;32mhorse_val.txt\u001b[00m\n",
      "│       │   │   ├── \u001b[01;32mmotorbike_train.txt\u001b[00m\n",
      "│       │   │   ├── \u001b[01;32mmotorbike_trainval.txt\u001b[00m\n",
      "│       │   │   ├── \u001b[01;32mmotorbike_val.txt\u001b[00m\n",
      "│       │   │   ├── \u001b[01;32mperson_train.txt\u001b[00m\n",
      "│       │   │   ├── \u001b[01;32mperson_trainval.txt\u001b[00m\n",
      "│       │   │   ├── \u001b[01;32mperson_val.txt\u001b[00m\n",
      "│       │   │   ├── \u001b[01;32mpottedplant_train.txt\u001b[00m\n",
      "│       │   │   ├── \u001b[01;32mpottedplant_trainval.txt\u001b[00m\n",
      "│       │   │   ├── \u001b[01;32mpottedplant_val.txt\u001b[00m\n",
      "│       │   │   ├── \u001b[01;32msheep_train.txt\u001b[00m\n",
      "│       │   │   ├── \u001b[01;32msheep_trainval.txt\u001b[00m\n",
      "│       │   │   ├── \u001b[01;32msheep_val.txt\u001b[00m\n",
      "│       │   │   ├── \u001b[01;32msofa_train.txt\u001b[00m\n",
      "│       │   │   ├── \u001b[01;32msofa_trainval.txt\u001b[00m\n",
      "│       │   │   ├── \u001b[01;32msofa_val.txt\u001b[00m\n",
      "│       │   │   ├── \u001b[01;32mtrain_train.txt\u001b[00m\n",
      "│       │   │   ├── \u001b[01;32mtrain_trainval.txt\u001b[00m\n",
      "│       │   │   ├── \u001b[01;32mtrain.txt\u001b[00m\n",
      "│       │   │   ├── \u001b[01;32mtrain_val.txt\u001b[00m\n",
      "│       │   │   ├── \u001b[01;32mtrainval.txt\u001b[00m\n",
      "│       │   │   ├── \u001b[01;32mtvmonitor_train.txt\u001b[00m\n",
      "│       │   │   ├── \u001b[01;32mtvmonitor_trainval.txt\u001b[00m\n",
      "│       │   │   ├── \u001b[01;32mtvmonitor_val.txt\u001b[00m\n",
      "│       │   │   └── \u001b[01;32mval.txt\u001b[00m\n",
      "│       │   └── \u001b[01;34mSegmentation\u001b[00m\n",
      "│       │       ├── \u001b[01;32mtrain.txt\u001b[00m\n",
      "│       │       ├── \u001b[01;32mtrainval.txt\u001b[00m\n",
      "│       │       └── \u001b[01;32mval.txt\u001b[00m\n",
      "│       ├── \u001b[01;34mJPEGImages\u001b[00m [17125 entries exceeds filelimit, not opening dir]\n",
      "│       ├── \u001b[01;34mSegmentationClass\u001b[00m [2913 entries exceeds filelimit, not opening dir]\n",
      "│       └── \u001b[01;34mSegmentationObject\u001b[00m [2913 entries exceeds filelimit, not opening dir]\n",
      "├── \u001b[01;31mVOCtest_06-Nov-2007.tar\u001b[00m\n",
      "├── \u001b[01;31mVOCtrainval_06-Nov-2007.tar\u001b[00m\n",
      "└── \u001b[01;31mVOCtrainval_11-May-2012.tar\u001b[00m\n",
      "\n",
      "21 directories, 197 files\n"
     ]
    }
   ],
   "source": [
    "!tree /tmp/data/pascal_voc/ --filelimit=100"
   ]
  },
  {
   "cell_type": "markdown",
   "metadata": {},
   "source": [
    "# 2、数据结构分析"
   ]
  },
  {
   "cell_type": "markdown",
   "metadata": {},
   "source": [
    "VOC2007与VOC2012十分相似，以voc2017为例来分析。\n",
    "JPEGImages文件夹下是以数字的图片名，Annotations下是对每个图片的标注数据。ImageSets/Layout下边的四个文档分别存放各自的图片文件名。ImageSets/Main中存放的是按照分类来存的，还有几个train.txt,test.txt,val.txt,train_train.txt,train_val.txt,train_test.txt下面说明这些内容的关系。"
   ]
  },
  {
   "cell_type": "code",
   "execution_count": 17,
   "metadata": {},
   "outputs": [
    {
     "name": "stdout",
     "output_type": "stream",
     "text": [
      "9963\n",
      "9963\n"
     ]
    }
   ],
   "source": [
    "images = sorted(os.listdir('JPEGImages/'))\n",
    "labels = sorted(os.listdir('Annotations/'))\n",
    "print(len(images))\n",
    "print(len(labels))\n"
   ]
  },
  {
   "cell_type": "code",
   "execution_count": 24,
   "metadata": {},
   "outputs": [
    {
     "name": "stdout",
     "output_type": "stream",
     "text": [
      "['000001.jpg', '000002.jpg', '000003.jpg', '000004.jpg', '000005.jpg', '000006.jpg', '000007.jpg', '000008.jpg', '000009.jpg', '000010.jpg']\n",
      "['000001.xml', '000002.xml', '000003.xml', '000004.xml', '000005.xml', '000006.xml', '000007.xml', '000008.xml', '000009.xml', '000010.xml']\n"
     ]
    }
   ],
   "source": [
    "print(images[:10])\n",
    "print(labels[:10])"
   ]
  },
  {
   "cell_type": "code",
   "execution_count": 18,
   "metadata": {},
   "outputs": [],
   "source": [
    "with open('ImageSets/Layout/train.txt') as f:\n",
    "    train = f.readlines()\n",
    "with open('ImageSets/Layout/test.txt') as f:\n",
    "    test = f.readlines()\n",
    "with open('ImageSets/Layout/trainval.txt') as f:\n",
    "     trainval= f.readlines()\n",
    "with open('ImageSets/Layout/val.txt') as f:\n",
    "    val = f.readlines()"
   ]
  },
  {
   "cell_type": "code",
   "execution_count": 21,
   "metadata": {},
   "outputs": [
    {
     "name": "stdout",
     "output_type": "stream",
     "text": [
      "318\n",
      "666\n",
      "646\n",
      "328\n",
      "1958\n"
     ]
    }
   ],
   "source": [
    "print(len(train))\n",
    "print(len(test))\n",
    "print(len(trainval))\n",
    "print(len(val))\n",
    "print(len(train)+len(test)+len(trainval)+len(val))"
   ]
  },
  {
   "cell_type": "code",
   "execution_count": 25,
   "metadata": {},
   "outputs": [],
   "source": [
    "with open('ImageSets/Main/train.txt') as f:\n",
    "    train = f.readlines()\n",
    "with open('ImageSets/Main/test.txt') as f:\n",
    "    test = f.readlines()\n",
    "with open('ImageSets/Main/val.txt') as f:\n",
    "     val= f.readlines()\n",
    "with open('ImageSets/Main/train_train.txt') as f:\n",
    "    train_train = f.readlines()\n",
    "with open('ImageSets/Main/train_test.txt') as f:\n",
    "    train_test = f.readlines()\n",
    "with open('ImageSets/Main/train_val.txt') as f:\n",
    "    train_val = f.readlines()"
   ]
  },
  {
   "cell_type": "code",
   "execution_count": 28,
   "metadata": {},
   "outputs": [
    {
     "name": "stdout",
     "output_type": "stream",
     "text": [
      "2501\n",
      "4952\n",
      "2510\n",
      "2501\n",
      "4952\n",
      "2510\n",
      "9963\n"
     ]
    }
   ],
   "source": [
    "print(len(train))\n",
    "print(len(test))\n",
    "print(len(val))\n",
    "print(len(train_train))\n",
    "print(len(train_test))\n",
    "print(len(train_val))\n",
    "print(len(train)+len(test)+len(val))"
   ]
  },
  {
   "cell_type": "code",
   "execution_count": 30,
   "metadata": {},
   "outputs": [
    {
     "name": "stdout",
     "output_type": "stream",
     "text": [
      "['000012\\n', '000017\\n', '000023\\n', '000026\\n', '000032\\n', '000033\\n', '000034\\n', '000035\\n', '000036\\n', '000042\\n']\n",
      "['000012 -1\\n', '000017 -1\\n', '000023 -1\\n', '000026 -1\\n', '000032 -1\\n', '000033 -1\\n', '000034  1\\n', '000035 -1\\n', '000036 -1\\n', '000042  1\\n']\n"
     ]
    }
   ],
   "source": [
    "print(train[:10])\n",
    "print(train_train[:10])"
   ]
  },
  {
   "cell_type": "markdown",
   "metadata": {},
   "source": [
    "可以看来 \"ImageSets/Main\"中的几个文件，总数是与总图片数量相同。 （train.txt,val.txt,test.txt)(train_train.txt,train_val.txt,train_test.txt)分别是一组。"
   ]
  },
  {
   "cell_type": "markdown",
   "metadata": {},
   "source": [
    "# 3 查看标注数据"
   ]
  },
  {
   "cell_type": "code",
   "execution_count": 32,
   "metadata": {},
   "outputs": [
    {
     "name": "stdout",
     "output_type": "stream",
     "text": [
      "<annotation>\n",
      "\t<folder>VOC2007</folder>\n",
      "\t<filename>000001.jpg</filename>\n",
      "\t<source>\n",
      "\t\t<database>The VOC2007 Database</database>\n",
      "\t\t<annotation>PASCAL VOC2007</annotation>\n",
      "\t\t<image>flickr</image>\n",
      "\t\t<flickrid>341012865</flickrid>\n",
      "\t</source>\n",
      "\t<owner>\n",
      "\t\t<flickrid>Fried Camels</flickrid>\n",
      "\t\t<name>Jinky the Fruit Bat</name>\n",
      "\t</owner>\n",
      "\t<size>\n",
      "\t\t<width>353</width>\n",
      "\t\t<height>500</height>\n",
      "\t\t<depth>3</depth>\n",
      "\t</size>\n",
      "\t<segmented>0</segmented>\n",
      "\t<object>\n",
      "\t\t<name>dog</name>\n",
      "\t\t<pose>Left</pose>\n",
      "\t\t<truncated>1</truncated>\n",
      "\t\t<difficult>0</difficult>\n",
      "\t\t<bndbox>\n",
      "\t\t\t<xmin>48</xmin>\n",
      "\t\t\t<ymin>240</ymin>\n",
      "\t\t\t<xmax>195</xmax>\n",
      "\t\t\t<ymax>371</ymax>\n",
      "\t\t</bndbox>\n",
      "\t</object>\n",
      "\t<object>\n",
      "\t\t<name>person</name>\n",
      "\t\t<pose>Left</pose>\n",
      "\t\t<truncated>1</truncated>\n",
      "\t\t<difficult>0</difficult>\n",
      "\t\t<bndbox>\n",
      "\t\t\t<xmin>8</xmin>\n",
      "\t\t\t<ymin>12</ymin>\n",
      "\t\t\t<xmax>352</xmax>\n",
      "\t\t\t<ymax>498</ymax>\n",
      "\t\t</bndbox>\n",
      "\t</object>\n",
      "</annotation>\n"
     ]
    }
   ],
   "source": [
    "%%bash\n",
    "cat Annotations/000001.xml"
   ]
  },
  {
   "cell_type": "code",
   "execution_count": 3,
   "metadata": {},
   "outputs": [
    {
     "ename": "SyntaxError",
     "evalue": "invalid syntax (<ipython-input-3-116ca2615902>, line 1)",
     "output_type": "error",
     "traceback": [
      "\u001b[0;36m  File \u001b[0;32m\"<ipython-input-3-116ca2615902>\"\u001b[0;36m, line \u001b[0;32m1\u001b[0m\n\u001b[0;31m    dict(zip(['a','b','c','d',,'e'],range(5))\u001b[0m\n\u001b[0m                              ^\u001b[0m\n\u001b[0;31mSyntaxError\u001b[0m\u001b[0;31m:\u001b[0m invalid syntax\n"
     ]
    }
   ],
   "source": [
    "dict(zip(['a','b','c','d',,'e'],range(5))"
   ]
  },
  {
   "cell_type": "code",
   "execution_count": 4,
   "metadata": {},
   "outputs": [
    {
     "ename": "SyntaxError",
     "evalue": "invalid syntax (<ipython-input-4-05622edf67b0>, line 1)",
     "output_type": "error",
     "traceback": [
      "\u001b[0;36m  File \u001b[0;32m\"<ipython-input-4-05622edf67b0>\"\u001b[0;36m, line \u001b[0;32m1\u001b[0m\n\u001b[0;31m    zip(['a','b','c','d',,'e'],range(5))\u001b[0m\n\u001b[0m                         ^\u001b[0m\n\u001b[0;31mSyntaxError\u001b[0m\u001b[0;31m:\u001b[0m invalid syntax\n"
     ]
    }
   ],
   "source": [
    "zip(['a','b','c','d',,'e'],range(5))"
   ]
  },
  {
   "cell_type": "code",
   "execution_count": 5,
   "metadata": {},
   "outputs": [],
   "source": [
    "CLASSES = ['aeroplane', 'bicycle', 'bird', 'boat', 'bottle', 'bus',\n",
    "           'car', 'cat', 'chair', 'cow', 'diningtable', 'dog', 'horse',\n",
    "           'motorbike', 'person', 'pottedplant', 'sheep', 'sofa',\n",
    "           'train', 'tvmonitor']"
   ]
  },
  {
   "cell_type": "code",
   "execution_count": 6,
   "metadata": {},
   "outputs": [
    {
     "data": {
      "text/plain": [
       "{'aeroplane': 0,\n",
       " 'bicycle': 1,\n",
       " 'bird': 2,\n",
       " 'boat': 3,\n",
       " 'bottle': 4,\n",
       " 'bus': 5,\n",
       " 'car': 6,\n",
       " 'cat': 7,\n",
       " 'chair': 8,\n",
       " 'cow': 9,\n",
       " 'diningtable': 10,\n",
       " 'dog': 11,\n",
       " 'horse': 12,\n",
       " 'motorbike': 13,\n",
       " 'person': 14,\n",
       " 'pottedplant': 15,\n",
       " 'sheep': 16,\n",
       " 'sofa': 17,\n",
       " 'train': 18,\n",
       " 'tvmonitor': 19}"
      ]
     },
     "execution_count": 6,
     "metadata": {},
     "output_type": "execute_result"
    }
   ],
   "source": [
    "dict(zip(CLASSES, range(len(CLASSES))))"
   ]
  },
  {
   "cell_type": "code",
   "execution_count": null,
   "metadata": {},
   "outputs": [],
   "source": []
  }
 ],
 "metadata": {
  "kernelspec": {
   "display_name": "tf2",
   "language": "python",
   "name": "tf2"
  },
  "language_info": {
   "codemirror_mode": {
    "name": "ipython",
    "version": 3
   },
   "file_extension": ".py",
   "mimetype": "text/x-python",
   "name": "python",
   "nbconvert_exporter": "python",
   "pygments_lexer": "ipython3",
   "version": "3.7.5"
  }
 },
 "nbformat": 4,
 "nbformat_minor": 2
}
