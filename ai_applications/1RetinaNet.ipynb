{
 "cells": [
  {
   "cell_type": "markdown",
   "metadata": {},
   "source": [
    "# Object Detection using RetinaNet\n",
    "\n",
    "RetinaNet是用来做目标检测的，参考文献 [Focal Loss for Dense Object Detection](https://arxiv.org/abs/1708.02002) by Tsung-Yi Lin, Priya Goyal, Ross Girshick, Kaiming He and Piotr Dollár.\n",
    "\n",
    "后面将使用 [Keras based implementation](https://github.com/fizyr/keras-retinanet) 训练好的模型来进行测试，为练集为 [COCO object detection dataset](http://cocodataset.org/)."
   ]
  },
  {
   "cell_type": "code",
   "execution_count": null,
   "metadata": {},
   "outputs": [],
   "source": [
    "#正式版本与tensorflow2不兼容，安装一个分支\n",
    "%pip install -q git+https://github.com/fizyr/keras-retinanet@7dd7b90994676332380a1536ba57cf4253ec6492\n",
    "# git clone https://github.com/fizyr/keras-retinanet@7dd7b90994676332380a1536ba57cf4253ec6492\n",
    "#pip install ."
   ]
  },
  {
   "cell_type": "code",
   "execution_count": null,
   "metadata": {},
   "outputs": [],
   "source": []
  }
 ],
 "metadata": {
  "kernelspec": {
   "display_name": "tf2",
   "language": "python",
   "name": "tf2"
  },
  "language_info": {
   "codemirror_mode": {
    "name": "ipython",
    "version": 3
   },
   "file_extension": ".py",
   "mimetype": "text/x-python",
   "name": "python",
   "nbconvert_exporter": "python",
   "pygments_lexer": "ipython3",
   "version": "3.7.5"
  }
 },
 "nbformat": 4,
 "nbformat_minor": 2
}
