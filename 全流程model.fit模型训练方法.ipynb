{
 "cells": [
  {
   "cell_type": "markdown",
   "metadata": {},
   "source": [
    "## 第一种方法直接用keras的fit方法，以fashion mnist为例"
   ]
  },
  {
   "cell_type": "code",
   "execution_count": 1,
   "metadata": {},
   "outputs": [],
   "source": [
    "import tensorflow as tf\n",
    "import time\n",
    "import datetime\n",
    "import json\n",
    "import matplotlib\n",
    "matplotlib.use(\"Agg\")#这个设置可以使matplotlib保存.png图到磁盘\n",
    "import matplotlib.pyplot as plt\n",
    "from functools import partial\n",
    "import numpy as np\n",
    "import pandas as pd\n",
    "import os\n",
    "from sklearn.metrics import confusion_matrix\n",
    "from sklearn.metrics import classification_report\n"
   ]
  },
  {
   "cell_type": "code",
   "execution_count": 2,
   "metadata": {},
   "outputs": [],
   "source": [
    "#jupyter 中开启该选项，否则不执行\n",
    "%matplotlib inline "
   ]
  },
  {
   "cell_type": "markdown",
   "metadata": {},
   "source": [
    "### 配置超参数"
   ]
  },
  {
   "cell_type": "code",
   "execution_count": 3,
   "metadata": {},
   "outputs": [],
   "source": [
    "batch_size=64\n",
    "epochs=5\n",
    "regularizer=1e-3\n",
    "total_train_samples=60000\n",
    "total_test_samples=10000\n",
    "lr_decay_epochs=1\n",
    "output_folder=\"./model_output\"\n",
    "#用来保存模型以及我们需要的所有东西\n",
    "if not os.path.exists(output_folder):\n",
    "    os.makedirs(output_folder)\n",
    "save_format=\"hdf5\" #或saved_model\n",
    "if save_format==\"hdf5\":\n",
    "    save_path_models=os.path.join(output_folder,\"hdf5_models\")\n",
    "    if not os.path.exists(save_path_models):\n",
    "        os.makedirs(save_path_models)\n",
    "    save_path=os.path.join(save_path_models,\"ckpt_epoch{epoch:02d}_val_acc{val_accuracy:.2f}.hdf5\")\n",
    "elif save_format==\"saved_model\":\n",
    "    save_path_models=os.path.join(output_folder,\"saved_models\")\n",
    "    if not os.path.exists(save_path_models):\n",
    "        os.makedirs(save_path_models)\n",
    "    save_path=os.path.join(save_path_models,\"ckpt_epoch{epoch:02d}_val_acc{val_accuracy:.2f}.ckpt\")\n",
    "#用来保存日志\n",
    "log_dir= os.path.join(output_folder,'logs_{}'.format(datetime.datetime.now().strftime(\"%Y%m%d-%H%M%S\")))\n",
    "if not os.path.exists(log_dir):\n",
    "    os.makedirs(log_dir)"
   ]
  },
  {
   "cell_type": "markdown",
   "metadata": {},
   "source": [
    "### 选择指定显卡及自动调用显存"
   ]
  },
  {
   "cell_type": "code",
   "execution_count": 4,
   "metadata": {},
   "outputs": [
    {
     "name": "stdout",
     "output_type": "stream",
     "text": [
      "All the available GPUs:\n",
      " [PhysicalDevice(name='/physical_device:GPU:0', device_type='GPU')]\n"
     ]
    }
   ],
   "source": [
    "physical_devices = tf.config.experimental.list_physical_devices('GPU')#列出所有可见显卡\n",
    "print(\"All the available GPUs:\\n\",physical_devices)\n",
    "if physical_devices:\n",
    "    gpu=physical_devices[0]#显示第一块显卡\n",
    "    tf.config.experimental.set_memory_growth(gpu, True)#根据需要自动增长显存\n",
    "    tf.config.experimental.set_visible_devices(gpu, 'GPU')#只选择第一块"
   ]
  },
  {
   "cell_type": "markdown",
   "metadata": {},
   "source": [
    "### 准备数据"
   ]
  },
  {
   "cell_type": "code",
   "execution_count": 5,
   "metadata": {},
   "outputs": [],
   "source": [
    "fashion_mnist=tf.keras.datasets.fashion_mnist\n",
    "(train_x,train_y),(test_x,test_y)=fashion_mnist.load_data()\n",
    "\n",
    "train_x,test_x = train_x[...,np.newaxis]/255.0,test_x[...,np.newaxis]/255.0\n",
    "class_names = ['T-shirt/top', 'Trouser', 'Pullover', 'Dress', 'Coat',\n",
    "               'Sandal', 'Shirt', 'Sneaker', 'Bag', 'Ankle boot']"
   ]
  },
  {
   "cell_type": "markdown",
   "metadata": {},
   "source": [
    "### 使用tf.data来准备训练集和测试集"
   ]
  },
  {
   "cell_type": "code",
   "execution_count": 6,
   "metadata": {},
   "outputs": [],
   "source": [
    "train_ds = tf.data.Dataset.from_tensor_slices((train_x,train_y))\n",
    "test_ds = tf.data.Dataset.from_tensor_slices((test_x,test_y))\n",
    " \n",
    "train_ds=train_ds.shuffle(buffer_size=batch_size*10).batch(batch_size).prefetch(buffer_size = tf.data.experimental.AUTOTUNE).repeat()\n",
    "test_ds = test_ds.batch(batch_size).prefetch(buffer_size = tf.data.experimental.AUTOTUNE)#不加repeat，执行一次就行"
   ]
  },
  {
   "cell_type": "markdown",
   "metadata": {},
   "source": [
    "### 准备模型定义"
   ]
  },
  {
   "cell_type": "code",
   "execution_count": 7,
   "metadata": {},
   "outputs": [],
   "source": [
    "l2 = tf.keras.regularizers.l2(regularizer)#定义模型正则化方法\n",
    "ini = tf.keras.initializers.he_normal()#定义参数初始化方法\n",
    "conv2d = partial(tf.keras.layers.Conv2D,activation='relu',padding='same',kernel_regularizer=l2,bias_regularizer=l2)\n",
    "fc = partial(tf.keras.layers.Dense,activation='relu',kernel_regularizer=l2,bias_regularizer=l2)\n",
    "maxpool=tf.keras.layers.MaxPooling2D\n",
    "dropout=tf.keras.layers.Dropout\n"
   ]
  },
  {
   "cell_type": "markdown",
   "metadata": {},
   "source": [
    "### 开始定义模型,用functional方法"
   ]
  },
  {
   "cell_type": "code",
   "execution_count": 8,
   "metadata": {},
   "outputs": [],
   "source": [
    "x_input = tf.keras.layers.Input(shape=(28,28,1),name='input_node')\n",
    "x = conv2d(128,(5,5))(x_input)\n",
    "x = maxpool((2,2))(x)\n",
    "x = conv2d(256,(5,5))(x)\n",
    "x = maxpool((2,2))(x)\n",
    "x = tf.keras.layers.Flatten()(x)\n",
    "x = fc(128)(x)\n",
    "x_output=fc(10,activation=None,name='output_node')(x)\n",
    "model = tf.keras.models.Model(inputs=x_input,outputs=x_output)                \n"
   ]
  },
  {
   "cell_type": "markdown",
   "metadata": {},
   "source": [
    "### 打印模型结构"
   ]
  },
  {
   "cell_type": "code",
   "execution_count": 9,
   "metadata": {
    "scrolled": false
   },
   "outputs": [
    {
     "name": "stdout",
     "output_type": "stream",
     "text": [
      "The model architure:\n",
      "\n",
      "Model: \"model\"\n",
      "_________________________________________________________________\n",
      "Layer (type)                 Output Shape              Param #   \n",
      "=================================================================\n",
      "input_node (InputLayer)      [(None, 28, 28, 1)]       0         \n",
      "_________________________________________________________________\n",
      "conv2d (Conv2D)              (None, 28, 28, 128)       3328      \n",
      "_________________________________________________________________\n",
      "max_pooling2d (MaxPooling2D) (None, 14, 14, 128)       0         \n",
      "_________________________________________________________________\n",
      "conv2d_1 (Conv2D)            (None, 14, 14, 256)       819456    \n",
      "_________________________________________________________________\n",
      "max_pooling2d_1 (MaxPooling2 (None, 7, 7, 256)         0         \n",
      "_________________________________________________________________\n",
      "flatten (Flatten)            (None, 12544)             0         \n",
      "_________________________________________________________________\n",
      "dense (Dense)                (None, 128)               1605760   \n",
      "_________________________________________________________________\n",
      "output_node (Dense)          (None, 10)                1290      \n",
      "=================================================================\n",
      "Total params: 2,429,834\n",
      "Trainable params: 2,429,834\n",
      "Non-trainable params: 0\n",
      "_________________________________________________________________\n",
      "None\n"
     ]
    }
   ],
   "source": [
    "print(\"The model architure:\\n\")\n",
    "print(model.summary())"
   ]
  },
  {
   "cell_type": "markdown",
   "metadata": {},
   "source": [
    "### 画出模型结构图并保存"
   ]
  },
  {
   "cell_type": "code",
   "execution_count": 10,
   "metadata": {},
   "outputs": [
    {
     "data": {
      "image/png": "[encoded data removed]",
      "text/plain": [
       "<IPython.core.display.Image object>"
      ]
     },
     "execution_count": 10,
     "metadata": {},
     "output_type": "execute_result"
    }
   ],
   "source": [
    "tf.keras.utils.plot_model(model,to_file=os.path.join(log_dir,'model.png'),show_shapes=True,show_layer_names=True)"
   ]
  },
  {
   "cell_type": "markdown",
   "metadata": {},
   "source": [
    "### 定义优化算法和损失函数"
   ]
  },
  {
   "cell_type": "code",
   "execution_count": 11,
   "metadata": {},
   "outputs": [],
   "source": [
    "#学习率变化设置，使用指数衰减\n",
    "train_steps_per_epoch=int(total_train_samples//batch_size)\n",
    "initial_learning_rate=0.01\n",
    "# lr_schedule = tf.keras.optimizers.schedules.ExponentialDecay(initial_learning_rate,\n",
    "#                                                              decay_steps=1*train_steps_per_epoch,\n",
    "#                                                             decay_rate=0.96,\n",
    "#                                                             staircase=True)#initial_learning_rate*0.96**(step/decay_steps)\n",
    "#优化算法\n",
    "optimizer = tf.keras.optimizers.SGD(learning_rate=initial_learning_rate,momentum=0.95)\n",
    "# optimizer = tf.keras.optimizers.SGD(learning_rate=lr_schedule,momentum=0.95)\n",
    "#损失函数\n",
    "loss = tf.keras.losses.SparseCategoricalCrossentropy(from_logits=True)\n",
    "#评价指标\n",
    "# metrics=[tf.keras.metrics.SparseCategoricalAccuracy(),loss]\n",
    "metrics=['accuracy','sparse_categorical_crossentropy']\n",
    "#上式第二个参数会返回交叉熵的结果，用loss减去该值就会得到正则化的值（于model.losses和相等），这两种定义方式都可以，下边的会显示名称短一些\n",
    "\n"
   ]
  },
  {
   "cell_type": "markdown",
   "metadata": {},
   "source": [
    "### 编译模型"
   ]
  },
  {
   "cell_type": "code",
   "execution_count": 12,
   "metadata": {},
   "outputs": [],
   "source": [
    "model.compile(optimizer=optimizer,loss=loss,metrics=metrics)"
   ]
  },
  {
   "cell_type": "markdown",
   "metadata": {},
   "source": [
    "### 定义callbacks"
   ]
  },
  {
   "cell_type": "markdown",
   "metadata": {},
   "source": [
    "#### 1、生成ckpt每个epoch训练完保存一个模型"
   ]
  },
  {
   "cell_type": "code",
   "execution_count": 13,
   "metadata": {},
   "outputs": [],
   "source": [
    "#模型保存格式默认是saved_model,可以自己定义更改原有类来保存hdf5\n",
    "ckpt = tf.keras.callbacks.ModelCheckpoint(save_path,monitor='val_accuracy',verbose=1,\n",
    "                                         save_best_only=False,save_weights_only=False,\n",
    "                                         save_frequency=1)#参数具体函意，查看官方文档\n"
   ]
  },
  {
   "cell_type": "markdown",
   "metadata": {},
   "source": [
    "#### 2、当模型验证集精度长时间不再提升时停止训练"
   ]
  },
  {
   "cell_type": "code",
   "execution_count": 14,
   "metadata": {},
   "outputs": [],
   "source": [
    "#当模型训练不符合我们要求时停止训练，连续5个epoch验证集精度没有提高0.001%停\n",
    "earlystop=tf.keras.callbacks.EarlyStopping(monitor='val_accuracy',min_delta = 0.00001,patience=5,verbose=True)"
   ]
  },
  {
   "cell_type": "markdown",
   "metadata": {},
   "source": [
    "#### 3、自定义学习率按需衰减，并把整个学习率变化过程保存"
   ]
  },
  {
   "cell_type": "code",
   "execution_count": 15,
   "metadata": {},
   "outputs": [],
   "source": [
    "class LearningRateExponentialDecay:\n",
    "    def __init__(self,initial_learning_rate,decay_epochs,decay_rate):\n",
    "        self.initial_learning_rate=initial_learning_rate\n",
    "        self.decay_epochs=decay_epochs\n",
    "        self.decay_rate=decay_rate\n",
    "    def __call__(self,epoch):\n",
    "        dtype =type(self.initial_learning_rate)\n",
    "        decay_epochs=np.array(self.decay_epochs).astype(dtype)\n",
    "        decay_rate=np.array(self.decay_rate).astype(dtype)\n",
    "        epoch = np.array(epoch).astype(dtype)\n",
    "        p = epoch/decay_epochs\n",
    "        lr = self.initial_learning_rate*np.power(decay_rate,p)\n",
    "        return lr\n",
    "    def plot(self,epochs,title=\"Learning Rate Schedule\"):\n",
    "        #计算学习率随epoch的变化值\n",
    "        lrs = [self(i) for i in epochs]\n",
    "        plt.figure()\n",
    "        plt.plot(epochs,lrs)\n",
    "        plt.xticks(epochs)\n",
    "        plt.scatter(epochs,lrs)\n",
    "        plt.title(title)\n",
    "        plt.xlabel(\"Epoch #\")\n",
    "        plt.ylabel(\"Learning Rate\")\n",
    "lr_schedule=LearningRateExponentialDecay(initial_learning_rate,lr_decay_epochs,0.96)\n",
    "lr = tf.keras.callbacks.LearningRateScheduler(lr_schedule,verbose=1)"
   ]
  },
  {
   "cell_type": "markdown",
   "metadata": {},
   "source": [
    "#### 4、使用tensorboard"
   ]
  },
  {
   "cell_type": "code",
   "execution_count": 16,
   "metadata": {},
   "outputs": [],
   "source": [
    "#还要加入tensorboard的使用,这种方法记录的内容有限\n",
    "tensorboard = tf.keras.callbacks.TensorBoard(log_dir=log_dir)"
   ]
  },
  {
   "cell_type": "markdown",
   "metadata": {},
   "source": [
    "#### 5、loss中出现nan或inf时停止训练"
   ]
  },
  {
   "cell_type": "code",
   "execution_count": 17,
   "metadata": {},
   "outputs": [],
   "source": [
    "#定义当loss出现nan或inf时停止训练的callback\n",
    "terminate=tf.keras.callbacks.TerminateOnNaN()"
   ]
  },
  {
   "cell_type": "markdown",
   "metadata": {},
   "source": [
    "#### 6、模型损失长时间不除时大程度降低学习率"
   ]
  },
  {
   "cell_type": "code",
   "execution_count": 18,
   "metadata": {},
   "outputs": [],
   "source": [
    "#降低学习率（要比学习率自动周期变化有更大变化和更长时间监控）\n",
    "reduce_lr = tf.keras.callbacks.ReduceLROnPlateau(monitor='val_loss',factor=0.1,patience=3,verbose=1,min_delta=0.0001,min_lr=0)"
   ]
  },
  {
   "cell_type": "markdown",
   "metadata": {},
   "source": [
    "#### 7、保存训练过程中所有标量指标"
   ]
  },
  {
   "cell_type": "code",
   "execution_count": 19,
   "metadata": {
    "scrolled": false
   },
   "outputs": [],
   "source": [
    "#保存训练过程中大数标量指标，与tensorboard同一个文件\n",
    "csv_logger = tf.keras.callbacks.CSVLogger(os.path.join(log_dir,'logs.log'),separator=',')"
   ]
  },
  {
   "cell_type": "markdown",
   "metadata": {},
   "source": [
    "### 综合所有的callbacks"
   ]
  },
  {
   "cell_type": "code",
   "execution_count": 20,
   "metadata": {},
   "outputs": [],
   "source": [
    "callbacks=[ckpt,earlystop,lr,tensorboard,terminate,reduce_lr,csv_logger]"
   ]
  },
  {
   "cell_type": "markdown",
   "metadata": {},
   "source": [
    "### 开始训练模型"
   ]
  },
  {
   "cell_type": "code",
   "execution_count": 21,
   "metadata": {
    "scrolled": false
   },
   "outputs": [
    {
     "name": "stdout",
     "output_type": "stream",
     "text": [
      "Train for 937 steps, validate for 157 steps\n",
      "\n",
      "Epoch 00001: LearningRateScheduler reducing learning rate to 0.01.\n",
      "Epoch 1/5\n",
      "936/937 [============================>.] - ETA: 0s - loss: 0.9190 - accuracy: 0.8054 - sparse_categorical_crossentropy: 1.5548\n",
      "Epoch 00001: saving model to ./model_output/hdf5_models/ckpt_epoch01_val_acc0.87.hdf5\n",
      "937/937 [==============================] - 79s 84ms/step - loss: 0.9186 - accuracy: 0.8055 - sparse_categorical_crossentropy: 1.5546 - val_loss: 0.6601 - val_accuracy: 0.8659 - val_sparse_categorical_crossentropy: 1.4305\n",
      "\n",
      "Epoch 00002: LearningRateScheduler reducing learning rate to 0.0096.\n",
      "Epoch 2/5\n",
      "936/937 [============================>.] - ETA: 0s - loss: 0.5597 - accuracy: 0.8831 - sparse_categorical_crossentropy: 1.3619\n",
      "Epoch 00002: saving model to ./model_output/hdf5_models/ckpt_epoch02_val_acc0.88.hdf5\n",
      "937/937 [==============================] - 77s 82ms/step - loss: 0.5598 - accuracy: 0.8831 - sparse_categorical_crossentropy: 1.3621 - val_loss: 0.5325 - val_accuracy: 0.8778 - val_sparse_categorical_crossentropy: 1.3255\n",
      "\n",
      "Epoch 00003: LearningRateScheduler reducing learning rate to 0.009216.\n",
      "Epoch 3/5\n",
      "936/937 [============================>.] - ETA: 0s - loss: 0.4613 - accuracy: 0.8939 - sparse_categorical_crossentropy: 1.2847\n",
      "Epoch 00003: saving model to ./model_output/hdf5_models/ckpt_epoch03_val_acc0.89.hdf5\n",
      "937/937 [==============================] - 76s 81ms/step - loss: 0.4612 - accuracy: 0.8939 - sparse_categorical_crossentropy: 1.2847 - val_loss: 0.4671 - val_accuracy: 0.8863 - val_sparse_categorical_crossentropy: 1.2375\n",
      "\n",
      "Epoch 00004: LearningRateScheduler reducing learning rate to 0.008847359999999999.\n",
      "Epoch 4/5\n",
      "936/937 [============================>.] - ETA: 0s - loss: 0.4032 - accuracy: 0.9043 - sparse_categorical_crossentropy: 1.2413\n",
      "Epoch 00004: saving model to ./model_output/hdf5_models/ckpt_epoch04_val_acc0.89.hdf5\n",
      "937/937 [==============================] - 76s 81ms/step - loss: 0.4030 - accuracy: 0.9043 - sparse_categorical_crossentropy: 1.2412 - val_loss: 0.4287 - val_accuracy: 0.8903 - val_sparse_categorical_crossentropy: 1.2165\n",
      "\n",
      "Epoch 00005: LearningRateScheduler reducing learning rate to 0.008493465599999998.\n",
      "Epoch 5/5\n",
      "936/937 [============================>.] - ETA: 0s - loss: 0.3771 - accuracy: 0.9084 - sparse_categorical_crossentropy: 1.1971\n",
      "Epoch 00005: saving model to ./model_output/hdf5_models/ckpt_epoch05_val_acc0.89.hdf5\n",
      "937/937 [==============================] - 76s 81ms/step - loss: 0.3771 - accuracy: 0.9083 - sparse_categorical_crossentropy: 1.1971 - val_loss: 0.4350 - val_accuracy: 0.8884 - val_sparse_categorical_crossentropy: 1.2115\n"
     ]
    }
   ],
   "source": [
    "# H=model.fit(train_ds,epochs=epochs,steps_per_epoch=len(train_x)//batch_size,validation_data=test_ds)\n",
    "H=model.fit(train_ds,epochs=epochs,steps_per_epoch=len(train_x)//batch_size,validation_data=test_ds,callbacks=callbacks,verbose=1)"
   ]
  },
  {
   "cell_type": "markdown",
   "metadata": {},
   "source": [
    "### 画学习率变化曲线并保存到log中"
   ]
  },
  {
   "cell_type": "code",
   "execution_count": 22,
   "metadata": {},
   "outputs": [
    {
     "data": {
      "image/png": "[encoded data removed]",
      "text/plain": [
       "<Figure size 432x288 with 1 Axes>"
      ]
     },
     "metadata": {
      "needs_background": "light"
     },
     "output_type": "display_data"
    }
   ],
   "source": [
    "N = np.arange(epochs)\n",
    "lr_schedule.plot(N)\n",
    "plt.savefig(os.path.join(log_dir,'learning_rate.png'))"
   ]
  },
  {
   "cell_type": "markdown",
   "metadata": {},
   "source": [
    "### 画模型训练及验证loss和acc曲线"
   ]
  },
  {
   "cell_type": "code",
   "execution_count": 23,
   "metadata": {},
   "outputs": [
    {
     "data": {
      "image/png": "[encoded data removed]",
      "text/plain": [
       "<Figure size 432x288 with 1 Axes>"
      ]
     },
     "metadata": {
      "needs_background": "light"
     },
     "output_type": "display_data"
    }
   ],
   "source": [
    "plt.figure()\n",
    "plt.plot(N,H.history['loss'],label='train_loss')\n",
    "plt.scatter(N,H.history['loss'])\n",
    "plt.plot(N,H.history['val_loss'],label='val_loss')\n",
    "plt.scatter(N,H.history['val_loss'])\n",
    "plt.plot(N,H.history['accuracy'],label='train_acc')\n",
    "plt.scatter(N,H.history['accuracy'])\n",
    "plt.plot(N,H.history['val_accuracy'],label='val_acc')\n",
    "plt.scatter(N,H.history['val_accuracy'])\n",
    "plt.title('Training Loss and Accuracy on Our_dataset')\n",
    "plt.xlabel('Epoch #')\n",
    "plt.ylabel('Loss/Accuracy')\n",
    "plt.legend()\n",
    "plt.savefig(os.path.join(log_dir,'training.png'))"
   ]
  },
  {
   "cell_type": "markdown",
   "metadata": {},
   "source": [
    "关于上图中epoch=0,随机初始化参数在验证集上精度远高于训练集的原因，将来其它博客中说明。"
   ]
  },
  {
   "cell_type": "markdown",
   "metadata": {},
   "source": [
    "### 保存模型结构及配置参数"
   ]
  },
  {
   "cell_type": "code",
   "execution_count": 24,
   "metadata": {},
   "outputs": [],
   "source": [
    "model_json = model.to_json()\n",
    "with open(os.path.join(log_dir,'model_json.json'),'w') as json_file:\n",
    "    json_file.write(model_json)"
   ]
  },
  {
   "cell_type": "markdown",
   "metadata": {},
   "source": [
    "### 对模型在测试集上进行评估"
   ]
  },
  {
   "cell_type": "code",
   "execution_count": 25,
   "metadata": {},
   "outputs": [
    {
     "name": "stdout",
     "output_type": "stream",
     "text": [
      "157/157 [==============================] - 4s 26ms/step - loss: 0.4350 - accuracy: 0.8884 - sparse_categorical_crossentropy: 1.2115\n",
      "val_loss: 0.43501977328282254 val_accuracy: 0.8884\n"
     ]
    }
   ],
   "source": [
    "metrics=model.evaluate(test_ds,verbose=1)\n",
    "print(\"val_loss:\",metrics[0],\"val_accuracy:\",metrics[1])"
   ]
  },
  {
   "cell_type": "markdown",
   "metadata": {},
   "source": [
    "### 对模型进行推理并分析推理结果"
   ]
  },
  {
   "cell_type": "code",
   "execution_count": 26,
   "metadata": {
    "scrolled": true
   },
   "outputs": [
    {
     "name": "stdout",
     "output_type": "stream",
     "text": [
      "157/157 [==============================] - 4s 24ms/step\n"
     ]
    }
   ],
   "source": [
    "predictions=model.predict(test_ds,verbose=1)"
   ]
  },
  {
   "cell_type": "code",
   "execution_count": 27,
   "metadata": {},
   "outputs": [],
   "source": [
    "def print_metrics(labels, predictions,target_names,save=False,save_path=None):\n",
    "    # 计算confusion result\n",
    "    preds=np.argmax(predictions,axis=-1)\n",
    "    confusion_result = confusion_matrix(labels, preds)\n",
    "    pd.set_option('display.max_rows', 500)\n",
    "    pd.set_option('display.max_columns', 500)\n",
    "    pd.set_option('display.width', 1500)\n",
    "    confusion_result = pd.DataFrame(confusion_result, index = target_names, columns = target_names)\n",
    "    # classification report\n",
    "    report = classification_report(labels, preds, target_names = target_names, digits = 4)\n",
    "    result_report = 'Confuse_matrix:\\n{}\\n\\nClassification_report:\\n{} \\n'.format(confusion_result, report)\n",
    "    print(result_report)\n",
    "    if save:   \n",
    "\n",
    "        savepath = os.path.join(save_path,\"predicted_result.txt\")\n",
    "\n",
    "        print('the result saved in %s' % savepath)#如果savepath相同的话,会把所有结果保存到同一个文件中\n",
    "\n",
    "        with open(savepath, 'w') as f:\n",
    "            f.write(result_report)\n"
   ]
  },
  {
   "cell_type": "code",
   "execution_count": 28,
   "metadata": {},
   "outputs": [
    {
     "name": "stdout",
     "output_type": "stream",
     "text": [
      "Confuse_matrix:\n",
      "             T-shirt/top  Trouser  Pullover  Dress  Coat  Sandal  Shirt  Sneaker  Bag  Ankle boot\n",
      "T-shirt/top          956        0        15     10     3       1      5        0   10           0\n",
      "Trouser                4      982         0     10     2       0      0        0    2           0\n",
      "Pullover              24        2       897      8    53       0     12        0    4           0\n",
      "Dress                 44        6        13    903    23       0      7        0    4           0\n",
      "Coat                   3        1        94     29   853       0     18        0    2           0\n",
      "Sandal                 0        0         0      0     0     978      0        8    0          14\n",
      "Shirt                325        2       122     18   101       0    420        0   12           0\n",
      "Sneaker                0        0         0      0     0      17      0      928    1          54\n",
      "Bag                    4        1         2      2     1       1      0        2  987           0\n",
      "Ankle boot             0        0         0      0     0       1      0       18    1         980\n",
      "\n",
      "Classification_report:\n",
      "              precision    recall  f1-score   support\n",
      "\n",
      " T-shirt/top     0.7029    0.9560    0.8102      1000\n",
      "     Trouser     0.9879    0.9820    0.9850      1000\n",
      "    Pullover     0.7848    0.8970    0.8371      1000\n",
      "       Dress     0.9214    0.9030    0.9121      1000\n",
      "        Coat     0.8234    0.8530    0.8379      1000\n",
      "      Sandal     0.9800    0.9780    0.9790      1000\n",
      "       Shirt     0.9091    0.4200    0.5746      1000\n",
      "     Sneaker     0.9707    0.9280    0.9489      1000\n",
      "         Bag     0.9648    0.9870    0.9758      1000\n",
      "  Ankle boot     0.9351    0.9800    0.9570      1000\n",
      "\n",
      "    accuracy                         0.8884     10000\n",
      "   macro avg     0.8980    0.8884    0.8818     10000\n",
      "weighted avg     0.8980    0.8884    0.8818     10000\n",
      " \n",
      "\n",
      "the result saved in ./model_output/logs_20191121-132954/predicted_result.txt\n"
     ]
    }
   ],
   "source": [
    "print_metrics(test_y,predictions,class_names,True,log_dir)"
   ]
  },
  {
   "cell_type": "markdown",
   "metadata": {},
   "source": [
    "### 显示输出文件结构"
   ]
  },
  {
   "cell_type": "code",
   "execution_count": 29,
   "metadata": {},
   "outputs": [
    {
     "name": "stdout",
     "output_type": "stream",
     "text": [
      "model_output\n",
      "├── hdf5_models\n",
      "│   ├── ckpt_epoch01_val_acc0.87.hdf5\n",
      "│   ├── ckpt_epoch02_val_acc0.88.hdf5\n",
      "│   ├── ckpt_epoch03_val_acc0.89.hdf5\n",
      "│   ├── ckpt_epoch04_val_acc0.89.hdf5\n",
      "│   └── ckpt_epoch05_val_acc0.89.hdf5\n",
      "└── logs_20191121-132954\n",
      "    ├── learning_rate.png\n",
      "    ├── logs.log\n",
      "    ├── model_json.json\n",
      "    ├── model.png\n",
      "    ├── predicted_result.txt\n",
      "    ├── train\n",
      "    │   ├── events.out.tfevents.1574314212.ubuntu.7877.401.v2\n",
      "    │   ├── events.out.tfevents.1574314215.ubuntu.profile-empty\n",
      "    │   └── plugins\n",
      "    │       └── profile\n",
      "    │           └── 2019-11-21_13-30-15\n",
      "    │               └── local.trace\n",
      "    ├── training.png\n",
      "    └── validation\n",
      "        └── events.out.tfevents.1574314291.ubuntu.7877.5942.v2\n",
      "\n",
      "7 directories, 15 files\n"
     ]
    }
   ],
   "source": [
    "%%bash\n",
    "tree model_output"
   ]
  },
  {
   "cell_type": "markdown",
   "metadata": {},
   "source": [
    "### 同样，只改变保存类型为ckpt"
   ]
  },
  {
   "cell_type": "code",
   "execution_count": 29,
   "metadata": {
    "scrolled": false
   },
   "outputs": [
    {
     "name": "stdout",
     "output_type": "stream",
     "text": [
      "model_output\n",
      "├── logs_20191121-130455\n",
      "│   ├── learning_rate.png\n",
      "│   ├── logs.log\n",
      "│   ├── model_json.json\n",
      "│   ├── model.png\n",
      "│   ├── predicted_result.txt\n",
      "│   ├── train\n",
      "│   │   ├── events.out.tfevents.1574312711.ubuntu.7321.401.v2\n",
      "│   │   ├── events.out.tfevents.1574312713.ubuntu.profile-empty\n",
      "│   │   └── plugins\n",
      "│   │       └── profile\n",
      "│   │           └── 2019-11-21_13-05-13\n",
      "│   │               └── local.trace\n",
      "│   ├── training.png\n",
      "│   └── validation\n",
      "│       └── events.out.tfevents.1574312790.ubuntu.7321.7346.v2\n",
      "├── logs_20191121-131145\n",
      "│   ├── logs.log\n",
      "│   ├── model.png\n",
      "│   └── train\n",
      "│       ├── events.out.tfevents.1574313110.ubuntu.7470.401.v2\n",
      "│       ├── events.out.tfevents.1574313113.ubuntu.profile-empty\n",
      "│       └── plugins\n",
      "│           └── profile\n",
      "│               └── 2019-11-21_13-11-53\n",
      "│                   └── local.trace\n",
      "├── logs_20191121-131222\n",
      "│   ├── learning_rate.png\n",
      "│   ├── logs.log\n",
      "│   ├── model_json.json\n",
      "│   ├── model.png\n",
      "│   ├── predicted_result.txt\n",
      "│   ├── train\n",
      "│   │   ├── events.out.tfevents.1574313156.ubuntu.7563.401.v2\n",
      "│   │   ├── events.out.tfevents.1574313159.ubuntu.profile-empty\n",
      "│   │   └── plugins\n",
      "│   │       └── profile\n",
      "│   │           └── 2019-11-21_13-12-39\n",
      "│   │               └── local.trace\n",
      "│   ├── training.png\n",
      "│   └── validation\n",
      "│       └── events.out.tfevents.1574313236.ubuntu.7563.7346.v2\n",
      "└── saved_models\n",
      "    ├── ckpt_epoch01_val_acc0.86.ckpt\n",
      "    │   ├── assets\n",
      "    │   ├── saved_model.pb\n",
      "    │   └── variables\n",
      "    │       ├── variables.data-00000-of-00002\n",
      "    │       ├── variables.data-00001-of-00002\n",
      "    │       └── variables.index\n",
      "    ├── ckpt_epoch02_val_acc0.88.ckpt\n",
      "    │   ├── assets\n",
      "    │   ├── saved_model.pb\n",
      "    │   └── variables\n",
      "    │       ├── variables.data-00000-of-00002\n",
      "    │       ├── variables.data-00001-of-00002\n",
      "    │       └── variables.index\n",
      "    ├── ckpt_epoch03_val_acc0.88.ckpt\n",
      "    │   ├── assets\n",
      "    │   ├── saved_model.pb\n",
      "    │   └── variables\n",
      "    │       ├── variables.data-00000-of-00002\n",
      "    │       ├── variables.data-00001-of-00002\n",
      "    │       └── variables.index\n",
      "    ├── ckpt_epoch04_val_acc0.89.ckpt\n",
      "    │   ├── assets\n",
      "    │   ├── saved_model.pb\n",
      "    │   └── variables\n",
      "    │       ├── variables.data-00000-of-00002\n",
      "    │       ├── variables.data-00001-of-00002\n",
      "    │       └── variables.index\n",
      "    └── ckpt_epoch05_val_acc0.90.ckpt\n",
      "        ├── assets\n",
      "        ├── saved_model.pb\n",
      "        └── variables\n",
      "            ├── variables.data-00000-of-00002\n",
      "            ├── variables.data-00001-of-00002\n",
      "            └── variables.index\n",
      "\n",
      "33 directories, 45 files\n"
     ]
    }
   ],
   "source": [
    "%%bash\n",
    "tree model_output"
   ]
  }
 ],
 "metadata": {
  "kernelspec": {
   "display_name": "tf2",
   "language": "python",
   "name": "tf2"
  },
  "language_info": {
   "codemirror_mode": {
    "name": "ipython",
    "version": 3
   },
   "file_extension": ".py",
   "mimetype": "text/x-python",
   "name": "python",
   "nbconvert_exporter": "python",
   "pygments_lexer": "ipython3",
   "version": "3.6.9"
  }
 },
 "nbformat": 4,
 "nbformat_minor": 2
}
