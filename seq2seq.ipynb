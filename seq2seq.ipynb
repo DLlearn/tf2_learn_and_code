{
 "cells": [
  {
   "cell_type": "code",
   "execution_count": 1,
   "metadata": {
    "pycharm": {
     "is_executing": false
    }
   },
   "outputs": [],
   "source": [
    "import tensorflow as tf\n",
    "import matplotlib.pyplot as plt\n",
    "%matplotlib inline"
   ]
  },
  {
   "cell_type": "markdown",
   "metadata": {
    "pycharm": {
     "name": "#%% md\n"
    }
   },
   "source": [
    "英文到法语，有个数据文件，是英语到法语语名对fra.txt，会有一名英语到两句不同的表达的法语的情况"
   ]
  },
  {
   "cell_type": "code",
   "execution_count": 2,
   "metadata": {
    "pycharm": {
     "is_executing": false,
     "name": "#%%\n"
    }
   },
   "outputs": [
    {
     "name": "stdout",
     "output_type": "stream",
     "text": [
      "2.0.0\n"
     ]
    }
   ],
   "source": [
    "print(tf.__version__)"
   ]
  },
  {
   "cell_type": "code",
   "execution_count": 3,
   "metadata": {
    "pycharm": {
     "is_executing": false,
     "name": "#%% \n"
    }
   },
   "outputs": [],
   "source": [
    "from tensorflow.keras.models import Model\n",
    "from tensorflow.keras.layers import Input, LSTM, Dense\n",
    "import numpy as np\n",
    "\n",
    "batch_size = 64  # Batch size for training.\n",
    "epochs = 50  # Number of epochs to train for.\n",
    "latent_dim = 256  # Latent dimensionality of the encoding space.\n",
    "num_samples = 10000  # Number of samples to train on.\n",
    "# Path to the data txt file on disk.\n",
    "data_path = 'fra.txt'\n"
   ]
  },
  {
   "cell_type": "code",
   "execution_count": 4,
   "metadata": {
    "pycharm": {
     "is_executing": false,
     "name": "#%%\n"
    }
   },
   "outputs": [],
   "source": [
    "#将输入向量化\n",
    "input_texts=[]\n",
    "target_texts=[]\n",
    "input_characters=set()\n",
    "target_characters=set()\n",
    "with open(data_path,'r',encoding='utf-8') as f:\n",
    "    lines = f.read().split('\\n')\n"
   ]
  },
  {
   "cell_type": "code",
   "execution_count": 5,
   "metadata": {
    "pycharm": {
     "is_executing": false,
     "name": "#%%\n"
    }
   },
   "outputs": [
    {
     "data": {
      "text/plain": [
       "['Go.\\tVa !\\tCC-BY 2.0 (France) Attribution: tatoeba.org #2877272 (CM) & #1158250 (Wittydev)',\n",
       " 'Hi.\\tSalut !\\tCC-BY 2.0 (France) Attribution: tatoeba.org #538123 (CM) & #509819 (Aiji)',\n",
       " 'Hi.\\tSalut.\\tCC-BY 2.0 (France) Attribution: tatoeba.org #538123 (CM) & #4320462 (gillux)',\n",
       " 'Run!\\tCours\\u202f!\\tCC-BY 2.0 (France) Attribution: tatoeba.org #906328 (papabear) & #906331 (sacredceltic)',\n",
       " 'Run!\\tCourez\\u202f!\\tCC-BY 2.0 (France) Attribution: tatoeba.org #906328 (papabear) & #906332 (sacredceltic)',\n",
       " 'Who?\\tQui ?\\tCC-BY 2.0 (France) Attribution: tatoeba.org #2083030 (CK) & #4366796 (gillux)',\n",
       " 'Wow!\\tÇa alors\\u202f!\\tCC-BY 2.0 (France) Attribution: tatoeba.org #52027 (Zifre) & #374631 (zmoo)',\n",
       " 'Fire!\\tAu feu !\\tCC-BY 2.0 (France) Attribution: tatoeba.org #1829639 (Spamster) & #4627939 (sacredceltic)',\n",
       " \"Help!\\tÀ l'aide\\u202f!\\tCC-BY 2.0 (France) Attribution: tatoeba.org #435084 (lukaszpp) & #128430 (sysko)\",\n",
       " 'Jump.\\tSaute.\\tCC-BY 2.0 (France) Attribution: tatoeba.org #631038 (Shishir) & #2416938 (Phoenix)']"
      ]
     },
     "execution_count": 5,
     "metadata": {},
     "output_type": "execute_result"
    }
   ],
   "source": [
    "lines[:10]"
   ]
  },
  {
   "cell_type": "code",
   "execution_count": 6,
   "metadata": {
    "pycharm": {
     "is_executing": false,
     "name": "#%%\n"
    }
   },
   "outputs": [
    {
     "name": "stdout",
     "output_type": "stream",
     "text": [
      "Go. Va !\n"
     ]
    }
   ],
   "source": [
    "a,b=lines[0].split('\\t')[:2]\n",
    "print(a,b)"
   ]
  },
  {
   "cell_type": "markdown",
   "metadata": {
    "pycharm": {
     "name": "#%% md\n"
    }
   },
   "source": [
    "英文句子的所有字符，法文句子的所有组成字符"
   ]
  },
  {
   "cell_type": "code",
   "execution_count": 7,
   "metadata": {
    "pycharm": {
     "is_executing": false,
     "name": "#%%\n"
    }
   },
   "outputs": [],
   "source": [
    "for line in lines[:min(num_samples,len(lines)-1)]:\n",
    "    input_text,target_text=line.split('\\t')[:2]\n",
    "    #\\t作为句子的开始，\\n作为句子的结束\n",
    "    target_text='\\t'+target_text+'\\n'\n",
    "    input_texts.append(input_text)\n",
    "    target_texts.append(target_text)\n",
    "    for char in input_text:\n",
    "        if char not in input_characters:\n",
    "            input_characters.add(char)\n",
    "    for char in target_text:\n",
    "        if char not in target_characters:\n",
    "            target_characters.add(char)\n",
    "    \n",
    "\n",
    "input_characters = sorted(list(input_characters))\n",
    "target_characters=sorted(list(target_characters))"
   ]
  },
  {
   "cell_type": "markdown",
   "metadata": {
    "pycharm": {
     "name": "#%% md\n"
    }
   },
   "source": [
    "获取英文句子的最长的长度，法文句子的最长长度，以及英文所有句子所用字符的个数和法文所有句子所用字符的个数"
   ]
  },
  {
   "cell_type": "code",
   "execution_count": 8,
   "metadata": {
    "pycharm": {
     "is_executing": false,
     "name": "#%%\n"
    }
   },
   "outputs": [
    {
     "name": "stdout",
     "output_type": "stream",
     "text": [
      "number of samples: 10000\n",
      "number of unique input tokens: 70\n",
      "number of unique output tokens: 93\n",
      "max sequence length for inputs: 16\n",
      "max sequence length for outputs: 59\n"
     ]
    }
   ],
   "source": [
    "num_encoder_tokens = len(input_characters)\n",
    "num_decoder_tokens = len(target_characters)\n",
    "max_encoder_seq_length =max([len(txt) for txt in input_texts])\n",
    "max_decoder_seq_length =max([len(txt) for txt in target_texts])\n",
    "\n",
    "print(\"number of samples:\",len(input_texts))\n",
    "print(\"number of unique input tokens:\",num_encoder_tokens)\n",
    "print(\"number of unique output tokens:\",num_decoder_tokens)\n",
    "print(\"max sequence length for inputs:\",max_encoder_seq_length)\n",
    "print(\"max sequence length for outputs:\",max_decoder_seq_length)"
   ]
  },
  {
   "cell_type": "markdown",
   "metadata": {
    "pycharm": {
     "name": "#%% md\n"
    }
   },
   "source": [
    "将所有的英文字符和法文字符编码成字典，形成字符与其数字表示对"
   ]
  },
  {
   "cell_type": "code",
   "execution_count": 9,
   "metadata": {
    "pycharm": {
     "is_executing": false,
     "name": "#%%\n"
    }
   },
   "outputs": [],
   "source": [
    "input_token_index=dict([(char,i) for i,char in enumerate(input_characters)])\n",
    "target_token_index=dict([(char,i) for i,char in enumerate(target_characters)])"
   ]
  },
  {
   "cell_type": "markdown",
   "metadata": {
    "pycharm": {
     "name": "#%% md\n"
    }
   },
   "source": [
    "对英文和法文分别用one-hot方式编码，只有编码成数字，才可以用于计算机来操作"
   ]
  },
  {
   "cell_type": "code",
   "execution_count": 10,
   "metadata": {
    "pycharm": {
     "is_executing": false,
     "name": "#%%\n"
    }
   },
   "outputs": [],
   "source": [
    "encoder_input_data=np.zeros((len(input_texts),max_encoder_seq_length,num_encoder_tokens),dtype=np.float32)\n",
    "decoder_input_data=np.zeros((len(input_texts),max_decoder_seq_length,num_decoder_tokens),dtype=np.float32)\n",
    "decoder_target_data=np.zeros((len(input_texts),max_decoder_seq_length,num_decoder_tokens),dtype=np.float32)\n",
    "\n",
    "\n"
   ]
  },
  {
   "cell_type": "code",
   "execution_count": 11,
   "metadata": {
    "pycharm": {
     "is_executing": false,
     "name": "#%%\n"
    }
   },
   "outputs": [],
   "source": [
    "for i,(input_text,target_text) in enumerate(zip(input_texts,target_texts)):\n",
    "    for t,char in enumerate(input_text):\n",
    "        encoder_input_data[i,t,input_token_index[char]]=1.\n",
    "    encoder_input_data[i,t+1:,input_token_index[' ']] = 1. #有字符部分之后可以用空格表示\n",
    "    for t ,char in enumerate(target_text):\n",
    "        decoder_input_data[i,t,target_token_index[char]]=1.\n",
    "        #目标文本decoder_target_data要比decoder_input_data早一个时间步，并且不包括开始步\n",
    "        if t>0:\n",
    "            decoder_target_data[i,t-1,target_token_index[char]]=1.\n",
    "    decoder_input_data[i,t+1:,target_token_index[' ']]=1.\n",
    "    decoder_target_data[i,t:,target_token_index[' ']] =1.\n",
    "    "
   ]
  },
  {
   "cell_type": "markdown",
   "metadata": {
    "pycharm": {
     "name": "#%% md\n"
    }
   },
   "source": [
    "准备定义模型"
   ]
  },
  {
   "cell_type": "code",
   "execution_count": 12,
   "metadata": {
    "pycharm": {
     "is_executing": false,
     "name": "#%%\n"
    }
   },
   "outputs": [],
   "source": [
    "tf.keras.backend.clear_session()\n",
    "#编写encoder\n",
    "encoder_inputs = Input(shape=(None,num_encoder_tokens))\n",
    "encoder = LSTM(latent_dim,return_state=True)\n",
    "encoder_outputs,state_h,state_c =encoder(encoder_inputs)\n",
    "encoder_states=[state_h,state_c] #获取取后的状态\n",
    "#编写decoder\n",
    "decoder_inputs = Input(shape=(None,num_decoder_tokens))\n",
    "decoder_lstm = LSTM(latent_dim,return_sequences=True,return_state=True)\n",
    "decoder_outputs,_,_ =decoder_lstm(decoder_inputs,initial_state=encoder_states)\n",
    "decoder_dense=Dense(num_decoder_tokens,activation='softmax')\n",
    "decoder_outputs=decoder_dense(decoder_outputs)\n",
    "\n",
    "model=Model(inputs=[encoder_inputs,decoder_inputs],outputs=[decoder_outputs])\n",
    "\n"
   ]
  },
  {
   "cell_type": "code",
   "execution_count": 13,
   "metadata": {
    "pycharm": {
     "is_executing": false,
     "name": "#%%\n"
    }
   },
   "outputs": [],
   "source": [
    "#编译并训练模型\n",
    "optimizer = tf.keras.optimizers.Adam()\n",
    "loss = tf.keras.losses.CategoricalCrossentropy(from_logits=False)\n",
    "metrics=['accuracy']\n",
    "model.compile(optimizer=optimizer,loss=loss,metrics=metrics)\n"
   ]
  },
  {
   "cell_type": "code",
   "execution_count": 14,
   "metadata": {
    "pycharm": {
     "is_executing": false,
     "name": "#%%\n"
    }
   },
   "outputs": [
    {
     "name": "stdout",
     "output_type": "stream",
     "text": [
      "Train on 8000 samples, validate on 2000 samples\n",
      "Epoch 1/50\n",
      "8000/8000 [==============================] - 10s 1ms/sample - loss: 1.3355 - accuracy: 0.7188 - val_loss: 1.1313 - val_accuracy: 0.6959\n",
      "Epoch 2/50\n",
      "8000/8000 [==============================] - 6s 773us/sample - loss: 0.8938 - accuracy: 0.7525 - val_loss: 0.9395 - val_accuracy: 0.7456\n",
      "Epoch 3/50\n",
      "8000/8000 [==============================] - 6s 771us/sample - loss: 0.7597 - accuracy: 0.7935 - val_loss: 0.8035 - val_accuracy: 0.7750\n",
      "Epoch 4/50\n",
      "8000/8000 [==============================] - 6s 775us/sample - loss: 0.6574 - accuracy: 0.8146 - val_loss: 0.7180 - val_accuracy: 0.7954\n",
      "Epoch 5/50\n",
      "8000/8000 [==============================] - 6s 773us/sample - loss: 0.5982 - accuracy: 0.8286 - val_loss: 0.6747 - val_accuracy: 0.8052\n",
      "Epoch 6/50\n",
      "8000/8000 [==============================] - 6s 775us/sample - loss: 0.5619 - accuracy: 0.8374 - val_loss: 0.6358 - val_accuracy: 0.8158\n",
      "Epoch 7/50\n",
      "8000/8000 [==============================] - 6s 773us/sample - loss: 0.5339 - accuracy: 0.8443 - val_loss: 0.6165 - val_accuracy: 0.8187\n",
      "Epoch 8/50\n",
      "8000/8000 [==============================] - 6s 772us/sample - loss: 0.5608 - accuracy: 0.8397 - val_loss: 0.6222 - val_accuracy: 0.8186\n",
      "Epoch 9/50\n",
      "8000/8000 [==============================] - 6s 776us/sample - loss: 0.5133 - accuracy: 0.8502 - val_loss: 0.5896 - val_accuracy: 0.8275\n",
      "Epoch 10/50\n",
      "8000/8000 [==============================] - 6s 773us/sample - loss: 0.4928 - accuracy: 0.8551 - val_loss: 0.5774 - val_accuracy: 0.8298\n",
      "Epoch 11/50\n",
      "8000/8000 [==============================] - 6s 773us/sample - loss: 0.4787 - accuracy: 0.8588 - val_loss: 0.5623 - val_accuracy: 0.8341\n",
      "Epoch 12/50\n",
      "8000/8000 [==============================] - 6s 773us/sample - loss: 0.4662 - accuracy: 0.8622 - val_loss: 0.5518 - val_accuracy: 0.8376\n",
      "Epoch 13/50\n",
      "8000/8000 [==============================] - 6s 777us/sample - loss: 0.4548 - accuracy: 0.8650 - val_loss: 0.5412 - val_accuracy: 0.8408\n",
      "Epoch 14/50\n",
      "8000/8000 [==============================] - 6s 775us/sample - loss: 0.4436 - accuracy: 0.8686 - val_loss: 0.5328 - val_accuracy: 0.8425\n",
      "Epoch 15/50\n",
      "8000/8000 [==============================] - 6s 771us/sample - loss: 0.4339 - accuracy: 0.8709 - val_loss: 0.5239 - val_accuracy: 0.8451\n",
      "Epoch 16/50\n",
      "8000/8000 [==============================] - 6s 778us/sample - loss: 0.4237 - accuracy: 0.8739 - val_loss: 0.5202 - val_accuracy: 0.8466\n",
      "Epoch 17/50\n",
      "8000/8000 [==============================] - 6s 772us/sample - loss: 0.4145 - accuracy: 0.8767 - val_loss: 0.5098 - val_accuracy: 0.8491\n",
      "Epoch 18/50\n",
      "8000/8000 [==============================] - 6s 777us/sample - loss: 0.4045 - accuracy: 0.8795 - val_loss: 0.5068 - val_accuracy: 0.8502\n",
      "Epoch 19/50\n",
      "8000/8000 [==============================] - 6s 779us/sample - loss: 0.3959 - accuracy: 0.8815 - val_loss: 0.5017 - val_accuracy: 0.8506\n",
      "Epoch 20/50\n",
      "8000/8000 [==============================] - 6s 775us/sample - loss: 0.3863 - accuracy: 0.8847 - val_loss: 0.4940 - val_accuracy: 0.8540\n",
      "Epoch 21/50\n",
      "8000/8000 [==============================] - 6s 774us/sample - loss: 0.3770 - accuracy: 0.8870 - val_loss: 0.4919 - val_accuracy: 0.8557\n",
      "Epoch 22/50\n",
      "8000/8000 [==============================] - 6s 774us/sample - loss: 0.3677 - accuracy: 0.8899 - val_loss: 0.4850 - val_accuracy: 0.8567\n",
      "Epoch 23/50\n",
      "8000/8000 [==============================] - 6s 780us/sample - loss: 0.3596 - accuracy: 0.8920 - val_loss: 0.4806 - val_accuracy: 0.8584\n",
      "Epoch 24/50\n",
      "8000/8000 [==============================] - 6s 778us/sample - loss: 0.3504 - accuracy: 0.8951 - val_loss: 0.4756 - val_accuracy: 0.8600\n",
      "Epoch 25/50\n",
      "8000/8000 [==============================] - 6s 775us/sample - loss: 0.3413 - accuracy: 0.8973 - val_loss: 0.4731 - val_accuracy: 0.8611\n",
      "Epoch 26/50\n",
      "8000/8000 [==============================] - 6s 778us/sample - loss: 0.3337 - accuracy: 0.8998 - val_loss: 0.4701 - val_accuracy: 0.8617\n",
      "Epoch 27/50\n",
      "8000/8000 [==============================] - 6s 773us/sample - loss: 0.3250 - accuracy: 0.9022 - val_loss: 0.4653 - val_accuracy: 0.8631\n",
      "Epoch 28/50\n",
      "8000/8000 [==============================] - 6s 776us/sample - loss: 0.3162 - accuracy: 0.9051 - val_loss: 0.4603 - val_accuracy: 0.8656\n",
      "Epoch 29/50\n",
      "8000/8000 [==============================] - 6s 776us/sample - loss: 0.3075 - accuracy: 0.9074 - val_loss: 0.4595 - val_accuracy: 0.8664\n",
      "Epoch 30/50\n",
      "8000/8000 [==============================] - 6s 770us/sample - loss: 0.3002 - accuracy: 0.9097 - val_loss: 0.4569 - val_accuracy: 0.8665\n",
      "Epoch 31/50\n",
      "8000/8000 [==============================] - 6s 773us/sample - loss: 0.2920 - accuracy: 0.9121 - val_loss: 0.4549 - val_accuracy: 0.8677\n",
      "Epoch 32/50\n",
      "8000/8000 [==============================] - 6s 777us/sample - loss: 0.2845 - accuracy: 0.9145 - val_loss: 0.4557 - val_accuracy: 0.8678\n",
      "Epoch 33/50\n",
      "8000/8000 [==============================] - 6s 772us/sample - loss: 0.2771 - accuracy: 0.9167 - val_loss: 0.4557 - val_accuracy: 0.8687\n",
      "Epoch 34/50\n",
      "8000/8000 [==============================] - 6s 775us/sample - loss: 0.2696 - accuracy: 0.9189 - val_loss: 0.4532 - val_accuracy: 0.8692\n",
      "Epoch 35/50\n",
      "8000/8000 [==============================] - 6s 775us/sample - loss: 0.2633 - accuracy: 0.9206 - val_loss: 0.4595 - val_accuracy: 0.8687\n",
      "Epoch 36/50\n",
      "8000/8000 [==============================] - 6s 775us/sample - loss: 0.2550 - accuracy: 0.9230 - val_loss: 0.4561 - val_accuracy: 0.8705\n",
      "Epoch 37/50\n",
      "8000/8000 [==============================] - 6s 775us/sample - loss: 0.2480 - accuracy: 0.9252 - val_loss: 0.4557 - val_accuracy: 0.8698\n",
      "Epoch 38/50\n",
      "8000/8000 [==============================] - 6s 774us/sample - loss: 0.2410 - accuracy: 0.9272 - val_loss: 0.4603 - val_accuracy: 0.8702\n",
      "Epoch 39/50\n",
      "8000/8000 [==============================] - 6s 776us/sample - loss: 0.2341 - accuracy: 0.9289 - val_loss: 0.4582 - val_accuracy: 0.8713\n",
      "Epoch 40/50\n",
      "8000/8000 [==============================] - 6s 775us/sample - loss: 0.2280 - accuracy: 0.9309 - val_loss: 0.4607 - val_accuracy: 0.8705\n",
      "Epoch 41/50\n",
      "8000/8000 [==============================] - 6s 773us/sample - loss: 0.2215 - accuracy: 0.9326 - val_loss: 0.4670 - val_accuracy: 0.8703\n",
      "Epoch 42/50\n",
      "8000/8000 [==============================] - 6s 777us/sample - loss: 0.2153 - accuracy: 0.9349 - val_loss: 0.4625 - val_accuracy: 0.8718\n",
      "Epoch 43/50\n",
      "8000/8000 [==============================] - 6s 775us/sample - loss: 0.2088 - accuracy: 0.9366 - val_loss: 0.4684 - val_accuracy: 0.8719\n",
      "Epoch 44/50\n",
      "8000/8000 [==============================] - 6s 776us/sample - loss: 0.2039 - accuracy: 0.9379 - val_loss: 0.4679 - val_accuracy: 0.8721\n",
      "Epoch 45/50\n",
      "8000/8000 [==============================] - 6s 775us/sample - loss: 0.1971 - accuracy: 0.9400 - val_loss: 0.4726 - val_accuracy: 0.8719\n",
      "Epoch 46/50\n",
      "8000/8000 [==============================] - 6s 776us/sample - loss: 0.1912 - accuracy: 0.9417 - val_loss: 0.4794 - val_accuracy: 0.8716\n",
      "Epoch 47/50\n",
      "8000/8000 [==============================] - 6s 773us/sample - loss: 0.1863 - accuracy: 0.9431 - val_loss: 0.4823 - val_accuracy: 0.8712\n",
      "Epoch 48/50\n",
      "8000/8000 [==============================] - 6s 771us/sample - loss: 0.1804 - accuracy: 0.9451 - val_loss: 0.4833 - val_accuracy: 0.8729\n",
      "Epoch 49/50\n",
      "8000/8000 [==============================] - 6s 779us/sample - loss: 0.1756 - accuracy: 0.9461 - val_loss: 0.4844 - val_accuracy: 0.8714\n",
      "Epoch 50/50\n",
      "8000/8000 [==============================] - 6s 779us/sample - loss: 0.1703 - accuracy: 0.9478 - val_loss: 0.4934 - val_accuracy: 0.8707\n"
     ]
    }
   ],
   "source": [
    "history=model.fit([encoder_input_data,decoder_input_data],decoder_target_data,\n",
    "          batch_size=batch_size,\n",
    "          epochs=epochs,\n",
    "          validation_split=0.2)"
   ]
  },
  {
   "cell_type": "code",
   "execution_count": 15,
   "metadata": {
    "pycharm": {
     "is_executing": false,
     "name": "#%%\n"
    }
   },
   "outputs": [
    {
     "data": {
      "text/plain": [
       "<matplotlib.legend.Legend at 0x7f7538f5c2e8>"
      ]
     },
     "execution_count": 15,
     "metadata": {},
     "output_type": "execute_result"
    },
    {
     "data": {
      "image/png": "[encoded data removed]",
      "text/plain": [
       "<Figure size 432x288 with 1 Axes>"
      ]
     },
     "metadata": {
      "needs_background": "light"
     },
     "output_type": "display_data"
    }
   ],
   "source": [
    "N = np.arange(len(history.history['loss']))\n",
    "plt.figure()\n",
    "plt.plot(N,history.history['loss'],label='train_loss')\n",
    "plt.plot(N,history.history['val_loss'],label='val_loss')\n",
    "plt.plot(N,history.history['accuracy'],label='train_acc')\n",
    "plt.plot(N,history.history['val_accuracy'],label='val_acc')\n",
    "plt.grid(False)\n",
    "plt.xlabel('Epochs #')\n",
    "plt.ylabel('Accuracy/Loss')\n",
    "plt.legend()"
   ]
  },
  {
   "cell_type": "code",
   "execution_count": 16,
   "metadata": {
    "pycharm": {
     "is_executing": false,
     "name": "#%%\n"
    }
   },
   "outputs": [],
   "source": [
    "#训练好后保存模型\n",
    "model.save('model_s2s.hdf5',save_format='h5')\n"
   ]
  },
  {
   "cell_type": "markdown",
   "metadata": {},
   "source": [
    "进行推理环节，思路如下：\n",
    "1. 使用encoder将输入英文编码，获得decoder的初始状态\n",
    "2. 基于获得的初始状态，和序列起始‘\\t',decoder只运行一个step,获得输出和状态，这个输出将是下一步的输入\n",
    "3. 重复步骤2"
   ]
  },
  {
   "cell_type": "code",
   "execution_count": 17,
   "metadata": {},
   "outputs": [],
   "source": [
    "#使用模型的一部分\n",
    "encoder_model = Model(encoder_inputs,encoder_states)\n",
    "\n",
    "decoder_state_input_h=Input(shape=(latent_dim,))\n",
    "decoder_state_input_c=Input(shape=(latent_dim,))\n",
    "decoder_states_inputs=[decoder_state_input_h,decoder_state_input_c]\n",
    "decoder_outputs,state_h,state_c=decoder_lstm(decoder_inputs,initial_state=decoder_states_inputs)\n",
    "decoder_states = [state_h,state_c]\n",
    "decoder_outputs=decoder_dense(decoder_outputs)\n",
    "decoder_model =Model([decoder_inputs]+decoder_states_inputs,[decoder_outputs]+decoder_states)"
   ]
  },
  {
   "cell_type": "markdown",
   "metadata": {},
   "source": [
    "将数字反转成字母，这样就会比较好读"
   ]
  },
  {
   "cell_type": "code",
   "execution_count": 18,
   "metadata": {},
   "outputs": [],
   "source": [
    "reverse_input_char_index = dict([(i,char) for char,i in input_token_index.items()])\n",
    "reverse_target_char_index = dict((i, char) for char, i in target_token_index.items())"
   ]
  },
  {
   "cell_type": "code",
   "execution_count": 25,
   "metadata": {},
   "outputs": [],
   "source": [
    "def decode_sequence(input_seq):\n",
    "    #使用encoder获取初始状态\n",
    "    states_value = encoder_model.predict(input_seq)    \n",
    "    #产生一个空的目标序列，因为只执行一步，所以l输入只有一个，输出也只有一个结果\n",
    "    target_seq = np.zeros((1,1,num_decoder_tokens))\n",
    "    #用起始字符填充目标序列的第一个位置\n",
    "    target_seq[0,0,target_token_index['\\t']]=1.\n",
    "    #对batch size的数据进行循环就可以，这里为了简单，使用batch size=1\n",
    "    stop_condition=False\n",
    "    decoded_sentence=''\n",
    "    \n",
    "    while not stop_condition:\n",
    "        output_tokens,h,c = decoder_model([target_seq]+states_value)\n",
    "        #获取输出结果\n",
    "        sampled_token_index = np.argmax(output_tokens[0,-1,:])\n",
    "        sampled_char = reverse_target_char_index[sampled_token_index]\n",
    "        decoded_sentence += sampled_char\n",
    "        #退出条件，达到最大长度，或是到达句子终点\n",
    "        if (sampled_char=='\\n' or len(decoded_sentence)>max_decoder_seq_length):\n",
    "            stop_condition=True\n",
    "        #更新下一步要用的目标序列\n",
    "        target_seq=np.zeros((1,1,num_decoder_tokens))\n",
    "        target_seq[0,0,sampled_token_index]=1.\n",
    "        #更新下一步要用的state\n",
    "        states_value=[h,c]\n",
    "    return decoded_sentence\n",
    "    \n",
    "    "
   ]
  },
  {
   "cell_type": "code",
   "execution_count": 32,
   "metadata": {
    "scrolled": true
   },
   "outputs": [
    {
     "name": "stdout",
     "output_type": "stream",
     "text": [
      "-\n",
      "Input sentence: Check these out.\n",
      "Decoded sentence: Vérifiez ça.\n",
      "True sentence: \tRegardez ceux-ci !\n",
      "\n",
      "-\n",
      "Input sentence: Clean your room.\n",
      "Decoded sentence: Prrêtes vous bancer ?\n",
      "True sentence: \tNettoyez votre chambre.\n",
      "\n",
      "-\n",
      "Input sentence: Clean your room.\n",
      "Decoded sentence: Prrêtes vous bancer ?\n",
      "True sentence: \tNettoie ta chambre.\n",
      "\n",
      "-\n",
      "Input sentence: Clean your room.\n",
      "Decoded sentence: Prrêtes vous bancer ?\n",
      "True sentence: \tNettoie ta chambre !\n",
      "\n",
      "-\n",
      "Input sentence: Clean your room.\n",
      "Decoded sentence: Prrêtes vous bancer ?\n",
      "True sentence: \tNettoyez votre chambre !\n",
      "\n",
      "-\n",
      "Input sentence: Close that door.\n",
      "Decoded sentence: Fermez la porte !\n",
      "True sentence: \tFerme cette porte !\n",
      "\n",
      "-\n",
      "Input sentence: Close that door.\n",
      "Decoded sentence: Fermez la porte !\n",
      "True sentence: \tFermez cette porte !\n",
      "\n",
      "-\n",
      "Input sentence: Close the hatch.\n",
      "Decoded sentence: Ferme la porte !\n",
      "True sentence: \tFermez la trappe.\n",
      "\n",
      "-\n",
      "Input sentence: Close the hatch.\n",
      "Decoded sentence: Ferme la porte !\n",
      "True sentence: \tFerme la trappe.\n",
      "\n",
      "-\n",
      "Input sentence: Close your eyes.\n",
      "Decoded sentence: Devande comment.\n",
      "True sentence: \tFerme tes yeux.\n",
      "\n",
      "-\n",
      "Input sentence: Close your eyes.\n",
      "Decoded sentence: Devande comment.\n",
      "True sentence: \tFerme les yeux.\n",
      "\n",
      "-\n",
      "Input sentence: Close your eyes.\n",
      "Decoded sentence: Devande comment.\n",
      "True sentence: \tFermez les yeux.\n",
      "\n",
      "-\n",
      "Input sentence: Come and get it.\n",
      "Decoded sentence: Faises ici en voir.\n",
      "True sentence: \tViens le chercher.\n",
      "\n",
      "-\n",
      "Input sentence: Come and get it.\n",
      "Decoded sentence: Faises ici en voir.\n",
      "True sentence: \tVenez le chercher.\n",
      "\n",
      "-\n",
      "Input sentence: Come and get it.\n",
      "Decoded sentence: Faises ici en voir.\n",
      "True sentence: \tVenez la chercher.\n",
      "\n",
      "-\n",
      "Input sentence: Come and get it.\n",
      "Decoded sentence: Faises ici en voir.\n",
      "True sentence: \tViens la chercher.\n",
      "\n",
      "-\n",
      "Input sentence: Come and see me.\n",
      "Decoded sentence: Tenez bien.\n",
      "True sentence: \tViens me voir.\n",
      "\n",
      "-\n",
      "Input sentence: Come and see me.\n",
      "Decoded sentence: Tenez bien.\n",
      "True sentence: \tVenez me voir.\n",
      "\n",
      "-\n",
      "Input sentence: Come as you are.\n",
      "Decoded sentence: Des de voir de maintenant.\n",
      "True sentence: \tViens comme tu es.\n",
      "\n",
      "-\n",
      "Input sentence: Come as you are.\n",
      "Decoded sentence: Des de voir de maintenant.\n",
      "True sentence: \tVenez comme vous êtes.\n",
      "\n",
      "-\n",
      "Input sentence: Come back later.\n",
      "Decoded sentence: Revenez à la maison.\n",
      "True sentence: \tReviens plus tard.\n",
      "\n",
      "-\n",
      "Input sentence: Come downstairs.\n",
      "Decoded sentence: Dis de noir an aller maintenant.\n",
      "True sentence: \tDescendez !\n",
      "\n",
      "-\n",
      "Input sentence: Come home early.\n",
      "Decoded sentence: Viens m'ai ommerder ans foir.\n",
      "True sentence: \tRentre tôt à la maison.\n",
      "\n",
      "-\n",
      "Input sentence: Come if you can.\n",
      "Decoded sentence: Fais dour joure !\n",
      "True sentence: \tViens si tu peux !\n",
      "\n",
      "-\n",
      "Input sentence: Come if you can.\n",
      "Decoded sentence: Fais dour joure !\n",
      "True sentence: \tVenez, si vous pouvez !\n",
      "\n",
      "-\n",
      "Input sentence: Come in already.\n",
      "Decoded sentence: Trends un  nourr.\n",
      "True sentence: \tEntre, déjà !\n",
      "\n",
      "-\n",
      "Input sentence: Come in already.\n",
      "Decoded sentence: Trends un  nourr.\n",
      "True sentence: \tEntrez, déjà !\n",
      "\n",
      "-\n",
      "Input sentence: Come on up here.\n",
      "Decoded sentence: Venez biens !\n",
      "True sentence: \tGrimpe ici !\n",
      "\n",
      "-\n",
      "Input sentence: Come on up here.\n",
      "Decoded sentence: Venez biens !\n",
      "True sentence: \tGrimpe là !\n",
      "\n",
      "-\n",
      "Input sentence: Come on, get up.\n",
      "Decoded sentence: Venez boinnez vous manatile !\n",
      "True sentence: \tAllez, lève-toi.\n",
      "\n",
      "-\n",
      "Input sentence: Come talk to me.\n",
      "Decoded sentence: Viens int chante.\n",
      "True sentence: \tViens et parle-moi.\n",
      "\n",
      "-\n",
      "Input sentence: Congratulations!\n",
      "Decoded sentence: Ne chance pas fauter !\n",
      "True sentence: \tFélicitations.\n",
      "\n",
      "-\n",
      "Input sentence: Congratulations!\n",
      "Decoded sentence: Ne chance pas fauter !\n",
      "True sentence: \tFélicitations !\n",
      "\n",
      "-\n",
      "Input sentence: Congratulations!\n",
      "Decoded sentence: Ne chance pas fauter !\n",
      "True sentence: \tBravo!\n",
      "\n",
      "-\n",
      "Input sentence: Congratulations!\n",
      "Decoded sentence: Ne chance pas fauter !\n",
      "True sentence: \tTous mes voeux!\n",
      "\n",
      "-\n",
      "Input sentence: Congratulations!\n",
      "Decoded sentence: Ne chance pas fauter !\n",
      "True sentence: \tToutes nos félicitations !\n",
      "\n",
      "-\n",
      "Input sentence: Congratulations!\n",
      "Decoded sentence: Ne chance pas fauter !\n",
      "True sentence: \tToutes mes félicitations !\n",
      "\n",
      "-\n",
      "Input sentence: Count to thirty.\n",
      "Decoded sentence: Ne ceune pas nager !\n",
      "True sentence: \tCompte jusque trente.\n",
      "\n",
      "-\n",
      "Input sentence: Crows are black.\n",
      "Decoded sentence: Les chanses en artisses.\n",
      "True sentence: \tLes corbeaux sont noirs.\n",
      "\n",
      "-\n",
      "Input sentence: Cut it out, Tom.\n",
      "Decoded sentence: Arrêtez d'ue cire.\n",
      "True sentence: \tÇa suffit, Tom.\n",
      "\n",
      "-\n",
      "Input sentence: Cut it out, Tom.\n",
      "Decoded sentence: Arrêtez d'ue cire.\n",
      "True sentence: \tArrête ton cinéma, Tom.\n",
      "\n",
      "-\n",
      "Input sentence: Defend yourself.\n",
      "Decoded sentence: Non quelle de protie parter de mon bons.\n",
      "True sentence: \tDéfendez-vous.\n",
      "\n",
      "-\n",
      "Input sentence: Defend yourself.\n",
      "Decoded sentence: Non quelle de protie parter de mon bons.\n",
      "True sentence: \tDéfends-toi.\n",
      "\n",
      "-\n",
      "Input sentence: Did I drop that?\n",
      "Decoded sentence: Vous ai-je plemée ?\n",
      "True sentence: \tAi-je fait tomber ça ?\n",
      "\n",
      "-\n",
      "Input sentence: Did I miss much?\n",
      "Decoded sentence: T'ai-je blessée ?\n",
      "True sentence: \tAi-je beaucoup manqué ?\n",
      "\n",
      "-\n",
      "Input sentence: Did I miss much?\n",
      "Decoded sentence: T'ai-je blessée ?\n",
      "True sentence: \tAi-je beaucoup loupé ?\n",
      "\n",
      "-\n",
      "Input sentence: Did Tom find it?\n",
      "Decoded sentence: Tom a-t-il tres ?\n",
      "True sentence: \tTom l'a-t-il trouvé ?\n",
      "\n",
      "-\n",
      "Input sentence: Did Tom find it?\n",
      "Decoded sentence: Tom a-t-il tres ?\n",
      "True sentence: \tTom l'a-t-il trouvée ?\n",
      "\n",
      "-\n",
      "Input sentence: Did anyone care?\n",
      "Decoded sentence: As-ce du tommen que vous ?\n",
      "True sentence: \tQuiconque s'en est-il soucié ?\n",
      "\n",
      "-\n",
      "Input sentence: Did he go there?\n",
      "Decoded sentence: T'ai-je blessé ?\n",
      "True sentence: \tEst-il allé là-bas ?\n",
      "\n",
      "-\n",
      "Input sentence: Did he go there?\n",
      "Decoded sentence: T'ai-je blessé ?\n",
      "True sentence: \tEst-il allé là?\n",
      "\n",
      "-\n",
      "Input sentence: Did he go there?\n",
      "Decoded sentence: T'ai-je blessé ?\n",
      "True sentence: \tS'y est-il rendu ?\n",
      "\n",
      "-\n",
      "Input sentence: Did he go there?\n",
      "Decoded sentence: T'ai-je blessé ?\n",
      "True sentence: \tY est-il allé ?\n",
      "\n",
      "-\n",
      "Input sentence: Did he say that?\n",
      "Decoded sentence: T'ai-je ens chaud ?\n",
      "True sentence: \tEst-ce qu'il a dit ça ?\n",
      "\n",
      "-\n",
      "Input sentence: Did she like it?\n",
      "Decoded sentence: L'a-t-elle calate ?\n",
      "True sentence: \tEst-ce qu'elle a aimé ?\n",
      "\n",
      "-\n",
      "Input sentence: Did she like it?\n",
      "Decoded sentence: L'a-t-elle calate ?\n",
      "True sentence: \tElle a aimé ?\n",
      "\n",
      "-\n",
      "Input sentence: Did someone die?\n",
      "Decoded sentence: Tom a -il rais ?\n",
      "True sentence: \tQuelqu'un est-il mort ?\n",
      "\n",
      "-\n",
      "Input sentence: Did you do this?\n",
      "Decoded sentence: As-tu trivatie ?\n",
      "True sentence: \tAs-tu fait ceci ?\n",
      "\n",
      "-\n",
      "Input sentence: Did you do this?\n",
      "Decoded sentence: As-tu trivatie ?\n",
      "True sentence: \tAvez-vous fait ceci ?\n",
      "\n",
      "-\n",
      "Input sentence: Did you drop it?\n",
      "Decoded sentence: As-tu sortie ?\n",
      "True sentence: \tL'as-tu laissé tomber ?\n",
      "\n",
      "-\n",
      "Input sentence: Did you drop it?\n",
      "Decoded sentence: As-tu sortie ?\n",
      "True sentence: \tL'avez-vous laissé tomber ?\n",
      "\n",
      "-\n",
      "Input sentence: Did you drop it?\n",
      "Decoded sentence: As-tu sortie ?\n",
      "True sentence: \tL'as-tu abandonné ?\n",
      "\n",
      "-\n",
      "Input sentence: Did you drop it?\n",
      "Decoded sentence: As-tu sortie ?\n",
      "True sentence: \tL'avez-vous abandonné ?\n",
      "\n",
      "-\n",
      "Input sentence: Did you drop it?\n",
      "Decoded sentence: As-tu sortie ?\n",
      "True sentence: \tL'as-tu débarqué ?\n",
      "\n",
      "-\n",
      "Input sentence: Did you drop it?\n",
      "Decoded sentence: As-tu sortie ?\n",
      "True sentence: \tL'avez-vous débarqué ?\n",
      "\n",
      "-\n",
      "Input sentence: Did you hear it?\n",
      "Decoded sentence: L'as-tu vue ?\n",
      "True sentence: \tL'as-tu entendu ?\n",
      "\n",
      "-\n",
      "Input sentence: Did you hear it?\n",
      "Decoded sentence: L'as-tu vue ?\n",
      "True sentence: \tL'avez-vous entendu ?\n",
      "\n",
      "-\n",
      "Input sentence: Did you like it?\n",
      "Decoded sentence: L'as-tu vate ?\n",
      "True sentence: \tL'as-tu aimé ?\n",
      "\n",
      "-\n",
      "Input sentence: Did you like it?\n",
      "Decoded sentence: L'as-tu vate ?\n",
      "True sentence: \tL'as-tu aimée ?\n",
      "\n",
      "-\n",
      "Input sentence: Did you like it?\n",
      "Decoded sentence: L'as-tu vate ?\n",
      "True sentence: \tL'avez-vous aimé ?\n",
      "\n",
      "-\n",
      "Input sentence: Did you like it?\n",
      "Decoded sentence: L'as-tu vate ?\n",
      "True sentence: \tL'avez-vous aimée ?\n",
      "\n",
      "-\n",
      "Input sentence: Did you miss me?\n",
      "Decoded sentence: L'avez-vous vue ?\n",
      "True sentence: \tJe t'ai manqué ?\n",
      "\n",
      "-\n",
      "Input sentence: Did you miss me?\n",
      "Decoded sentence: L'avez-vous vue ?\n",
      "True sentence: \tT'ai-je manqué ?\n",
      "\n",
      "-\n",
      "Input sentence: Did you miss me?\n",
      "Decoded sentence: L'avez-vous vue ?\n",
      "True sentence: \tVous ai-je manqué ?\n",
      "\n",
      "-\n",
      "Input sentence: Did you need me?\n",
      "Decoded sentence: L'as-tu vues ?\n",
      "True sentence: \tAvais-tu besoin de moi ?\n",
      "\n",
      "-\n",
      "Input sentence: Did you need me?\n",
      "Decoded sentence: L'as-tu vues ?\n",
      "True sentence: \tAviez-vous besoin de moi ?\n",
      "\n",
      "-\n",
      "Input sentence: Did you say yes?\n",
      "Decoded sentence: As-tu voté ?\n",
      "True sentence: \tAvez-vous dit oui ?\n",
      "\n"
     ]
    },
    {
     "name": "stdout",
     "output_type": "stream",
     "text": [
      "-\n",
      "Input sentence: Did you take it?\n",
      "Decoded sentence: L'avez-vous vue ?\n",
      "True sentence: \tL'as-tu pris ?\n",
      "\n",
      "-\n",
      "Input sentence: Did you take it?\n",
      "Decoded sentence: L'avez-vous vue ?\n",
      "True sentence: \tL'avez-vous pris ?\n",
      "\n",
      "-\n",
      "Input sentence: Dig a deep hole.\n",
      "Decoded sentence: Dites surtimentent.\n",
      "True sentence: \tCreuse un trou profond.\n",
      "\n",
      "-\n",
      "Input sentence: Dinner is ready.\n",
      "Decoded sentence: Le vie seu de partir.\n",
      "True sentence: \tLe dîner est prêt.\n",
      "\n",
      "-\n",
      "Input sentence: Dinner's at six.\n",
      "Decoded sentence: Le viens en prédent.\n",
      "True sentence: \tLe dîner est à six heures.\n",
      "\n",
      "-\n",
      "Input sentence: Do I have to go?\n",
      "Decoded sentence: Es-je détende ?\n",
      "True sentence: \tDois-je y aller ?\n",
      "\n",
      "-\n",
      "Input sentence: Do I look tired?\n",
      "Decoded sentence: Ai-je l'air bien ?\n",
      "True sentence: \tAi-je l'air fatigué ?\n",
      "\n",
      "-\n",
      "Input sentence: Do I look tired?\n",
      "Decoded sentence: Ai-je l'air bien ?\n",
      "True sentence: \tAi-je l'air fatiguée ?\n",
      "\n",
      "-\n",
      "Input sentence: Do it right now.\n",
      "Decoded sentence: Fais-le de chez moi.\n",
      "True sentence: \tFaites-le immédiatement.\n",
      "\n",
      "-\n",
      "Input sentence: Do we have rice?\n",
      "Decoded sentence: Mom chaqque-t-il ?\n",
      "True sentence: \tAvons-nous du riz ?\n",
      "\n",
      "-\n",
      "Input sentence: Do we have time?\n",
      "Decoded sentence: Tu ai des demble ?\n",
      "True sentence: \tAvons-nous le temps ?\n",
      "\n",
      "-\n",
      "Input sentence: Do what he says.\n",
      "Decoded sentence: Fais ce que je dis !\n",
      "True sentence: \tFais ce qu'il dit !\n",
      "\n",
      "-\n",
      "Input sentence: Do what he says.\n",
      "Decoded sentence: Fais ce que je dis !\n",
      "True sentence: \tFaites ce qu'il dit !\n",
      "\n",
      "-\n",
      "Input sentence: Do what you can.\n",
      "Decoded sentence: Faise comme cesse ton bon.\n",
      "True sentence: \tFais ce que tu peux.\n",
      "\n",
      "-\n",
      "Input sentence: Do you disagree?\n",
      "Decoded sentence: Fais-tu vane le ait ?\n",
      "True sentence: \tN'es-tu pas d'accord ?\n",
      "\n",
      "-\n",
      "Input sentence: Do you disagree?\n",
      "Decoded sentence: Fais-tu vane le ait ?\n",
      "True sentence: \tN'êtes-vous pas d'accord ?\n",
      "\n",
      "-\n",
      "Input sentence: Do you eat fish?\n",
      "Decoded sentence: Me comptentez-vous ?\n",
      "True sentence: \tManges-tu du poisson ?\n",
      "\n",
      "-\n",
      "Input sentence: Do you eat fish?\n",
      "Decoded sentence: Me comptentez-vous ?\n",
      "True sentence: \tMangez-vous du poisson ?\n",
      "\n",
      "-\n",
      "Input sentence: Do you eat fish?\n",
      "Decoded sentence: Me comptentez-vous ?\n",
      "True sentence: \tEst-ce que tu manges du poisson?\n",
      "\n",
      "-\n",
      "Input sentence: Do you eat meat?\n",
      "Decoded sentence: Tu me dette le voire !\n",
      "True sentence: \tManges-tu de la viande ?\n",
      "\n",
      "-\n",
      "Input sentence: Do you eat meat?\n",
      "Decoded sentence: Tu me dette le voire !\n",
      "True sentence: \tMangez-vous de la viande ?\n",
      "\n",
      "-\n",
      "Input sentence: Do you go often?\n",
      "Decoded sentence: Tu m'aitende ?\n",
      "True sentence: \tTu y vas souvent ?\n",
      "\n",
      "-\n",
      "Input sentence: Do you go often?\n",
      "Decoded sentence: Tu m'aitende ?\n",
      "True sentence: \tVous y allez souvent ?\n",
      "\n"
     ]
    }
   ],
   "source": [
    "for seq_index in range(9900,10000):\n",
    "    #从训练集中获取一部分数据来预测\n",
    "    input_seq = encoder_input_data[seq_index:seq_index+1]\n",
    "    decoded_sentence = decode_sequence(input_seq)\n",
    "    print('-')\n",
    "    print('Input sentence:',input_texts[seq_index])\n",
    "    print('Decoded sentence:',decoded_sentence.strip())\n",
    "    print('True sentence:',target_texts[seq_index])"
   ]
  },
  {
   "cell_type": "code",
   "execution_count": null,
   "metadata": {},
   "outputs": [],
   "source": [
    "#以上工作初步完成"
   ]
  }
 ],
 "metadata": {
  "kernelspec": {
   "display_name": "tf2",
   "language": "python",
   "name": "tf2"
  },
  "language_info": {
   "codemirror_mode": {
    "name": "ipython",
    "version": 3
   },
   "file_extension": ".py",
   "mimetype": "text/x-python",
   "name": "python",
   "nbconvert_exporter": "python",
   "pygments_lexer": "ipython3",
   "version": "3.6.9"
  },
  "pycharm": {
   "stem_cell": {
    "cell_type": "raw",
    "metadata": {
     "collapsed": false
    },
    "source": []
   }
  }
 },
 "nbformat": 4,
 "nbformat_minor": 1
}
